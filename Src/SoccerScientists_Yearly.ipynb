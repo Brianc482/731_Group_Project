{
 "cells": [
  {
   "cell_type": "code",
   "execution_count": 1,
   "metadata": {},
   "outputs": [],
   "source": [
    "# Importing libraries required for handling the data\n",
    "import pandas as pd\n",
    "import numpy as np\n",
    "import matplotlib.pyplot as plt"
   ]
  },
  {
   "cell_type": "code",
   "execution_count": 2,
   "metadata": {},
   "outputs": [],
   "source": [
    "#Loading the data\n",
    "allData = pd.read_csv(r\"https://raw.githubusercontent.com/Brianc482/731_Group_Project/main/Data/csv players_brazil_15_20_v1 - merged_players.csv\")\n",
    "#allData = pd.read_csv(r\"C:\\Users\\Eric\\Documents\\EECS 731\\SemesterProject\\Project\\data\\Eric_Brazil\\csv players_brazil_15_20_v1 - merged_players.csv\")\n",
    "#df_new = pd.read_csv(r\"C:\\Users\\Eric\\Documents\\EECS 731\\SemesterProject\\Project\\data\\Eric_Brazil\\csv players_brazil_15_20_v1 - merged_players.csv\")\n",
    "df_new = pd.read_csv(r\"https://raw.githubusercontent.com/Brianc482/731_Group_Project/main/Data/csv players_brazil_15_20_v1 - merged_players.csv\")"
   ]
  },
  {
   "cell_type": "code",
   "execution_count": 3,
   "metadata": {},
   "outputs": [],
   "source": [
    "# Used for plotting data\n",
    "%matplotlib inline\n",
    "import matplotlib.pyplot as plt# Used for data storage and manipulation \n",
    "import numpy as np\n",
    "import pandas as pd# Used for Regression Modelling\n",
    "from sklearn.linear_model import LinearRegression\n",
    "from sklearn import linear_model\n",
    "from sklearn.model_selection import train_test_split# Used for Acc metrics\n",
    "from sklearn.metrics import mean_squared_error\n",
    "from sklearn.metrics import r2_score# For stepwise regression\n",
    "import statsmodels.api as sm# box plots\n",
    "import seaborn as sns\n",
    "# Correlation plot\n",
    "from statsmodels.graphics.correlation import plot_corr"
   ]
  },
  {
   "cell_type": "code",
   "execution_count": 4,
   "metadata": {},
   "outputs": [],
   "source": [
    "# Store needed columns from final into new dataframe named df\n",
    "df = allData[['sofifa_id', 'physic', 'pace', 'shooting', 'dribbling', 'passing', 'defending', 'international_reputation','height_cm' ,'weight_kg','age', 'value_eur','potential', 'overall']]# Check out our new df"
   ]
  },
  {
   "cell_type": "code",
   "execution_count": 5,
   "metadata": {},
   "outputs": [
    {
     "name": "stderr",
     "output_type": "stream",
     "text": [
      "<ipython-input-5-d31d5d960ef2>:2: SettingWithCopyWarning: \n",
      "A value is trying to be set on a copy of a slice from a DataFrame.\n",
      "Try using .loc[row_indexer,col_indexer] = value instead\n",
      "\n",
      "See the caveats in the documentation: https://pandas.pydata.org/pandas-docs/stable/user_guide/indexing.html#returning-a-view-versus-a-copy\n",
      "  df['sofifa_id'] = df['sofifa_id'].astype('float64')\n",
      "<ipython-input-5-d31d5d960ef2>:3: SettingWithCopyWarning: \n",
      "A value is trying to be set on a copy of a slice from a DataFrame.\n",
      "Try using .loc[row_indexer,col_indexer] = value instead\n",
      "\n",
      "See the caveats in the documentation: https://pandas.pydata.org/pandas-docs/stable/user_guide/indexing.html#returning-a-view-versus-a-copy\n",
      "  df['international_reputation'] = df['international_reputation'].astype('float64')\n",
      "<ipython-input-5-d31d5d960ef2>:4: SettingWithCopyWarning: \n",
      "A value is trying to be set on a copy of a slice from a DataFrame.\n",
      "Try using .loc[row_indexer,col_indexer] = value instead\n",
      "\n",
      "See the caveats in the documentation: https://pandas.pydata.org/pandas-docs/stable/user_guide/indexing.html#returning-a-view-versus-a-copy\n",
      "  df['height_cm'] = df['height_cm'].astype('float64')\n",
      "<ipython-input-5-d31d5d960ef2>:5: SettingWithCopyWarning: \n",
      "A value is trying to be set on a copy of a slice from a DataFrame.\n",
      "Try using .loc[row_indexer,col_indexer] = value instead\n",
      "\n",
      "See the caveats in the documentation: https://pandas.pydata.org/pandas-docs/stable/user_guide/indexing.html#returning-a-view-versus-a-copy\n",
      "  df['weight_kg'] = df['weight_kg'].astype('float64')\n",
      "<ipython-input-5-d31d5d960ef2>:6: SettingWithCopyWarning: \n",
      "A value is trying to be set on a copy of a slice from a DataFrame.\n",
      "Try using .loc[row_indexer,col_indexer] = value instead\n",
      "\n",
      "See the caveats in the documentation: https://pandas.pydata.org/pandas-docs/stable/user_guide/indexing.html#returning-a-view-versus-a-copy\n",
      "  df['age'] = df['age'].astype('float64')\n",
      "<ipython-input-5-d31d5d960ef2>:7: SettingWithCopyWarning: \n",
      "A value is trying to be set on a copy of a slice from a DataFrame.\n",
      "Try using .loc[row_indexer,col_indexer] = value instead\n",
      "\n",
      "See the caveats in the documentation: https://pandas.pydata.org/pandas-docs/stable/user_guide/indexing.html#returning-a-view-versus-a-copy\n",
      "  df['value_eur'] = df['value_eur'].astype('float64')\n",
      "<ipython-input-5-d31d5d960ef2>:8: SettingWithCopyWarning: \n",
      "A value is trying to be set on a copy of a slice from a DataFrame.\n",
      "Try using .loc[row_indexer,col_indexer] = value instead\n",
      "\n",
      "See the caveats in the documentation: https://pandas.pydata.org/pandas-docs/stable/user_guide/indexing.html#returning-a-view-versus-a-copy\n",
      "  df['potential'] = df['potential'].astype('float64')\n",
      "<ipython-input-5-d31d5d960ef2>:9: SettingWithCopyWarning: \n",
      "A value is trying to be set on a copy of a slice from a DataFrame.\n",
      "Try using .loc[row_indexer,col_indexer] = value instead\n",
      "\n",
      "See the caveats in the documentation: https://pandas.pydata.org/pandas-docs/stable/user_guide/indexing.html#returning-a-view-versus-a-copy\n",
      "  df['overall'] = df['overall'].astype('float64')\n"
     ]
    }
   ],
   "source": [
    "# Need to convert three columns to  float64 Dtype\n",
    "df['sofifa_id'] = df['sofifa_id'].astype('float64')\n",
    "df['international_reputation'] = df['international_reputation'].astype('float64')\n",
    "df['height_cm'] = df['height_cm'].astype('float64')\n",
    "df['weight_kg'] = df['weight_kg'].astype('float64')\n",
    "df['age'] = df['age'].astype('float64')\n",
    "df['value_eur'] = df['value_eur'].astype('float64')\n",
    "df['potential'] = df['potential'].astype('float64')\n",
    "df['overall'] = df['overall'].astype('float64')"
   ]
  },
  {
   "cell_type": "code",
   "execution_count": 6,
   "metadata": {},
   "outputs": [],
   "source": [
    "#replace na with 0\n",
    "df = df.replace(np.nan, 0)"
   ]
  },
  {
   "cell_type": "code",
   "execution_count": 7,
   "metadata": {},
   "outputs": [
    {
     "data": {
      "text/plain": [
       "sofifa_id                  -0.369888\n",
       "physic                      0.170639\n",
       "pace                        0.124157\n",
       "shooting                    0.215751\n",
       "dribbling                   0.226966\n",
       "passing                     0.265954\n",
       "defending                   0.213632\n",
       "international_reputation    0.563724\n",
       "height_cm                   0.010418\n",
       "weight_kg                   0.041050\n",
       "age                         0.174653\n",
       "value_eur                   0.641934\n",
       "potential                   0.827021\n",
       "overall                     1.000000\n",
       "Name: overall, dtype: float64"
      ]
     },
     "execution_count": 7,
     "metadata": {},
     "output_type": "execute_result"
    }
   ],
   "source": [
    "#correlation coefficient, closer to 1 or -1 better\n",
    "corr = df.corr()\n",
    "corr['overall']"
   ]
  },
  {
   "cell_type": "code",
   "execution_count": 8,
   "metadata": {},
   "outputs": [],
   "source": [
    "X = pd.DataFrame(df, columns = ['potential', 'value_eur', 'international_reputation', 'passing'])\n",
    "y = pd.DataFrame(df, columns=['overall'])# WITH a random_state parameter:\n",
    "#  (Same split every time! Note you can change the random state to any integer.)\n",
    "X_train, X_test, y_train, y_test = train_test_split(X, y, random_state=1)"
   ]
  },
  {
   "cell_type": "code",
   "execution_count": 9,
   "metadata": {},
   "outputs": [],
   "source": [
    "# Create linear regression model\n",
    "lin_reg_mod = LinearRegression()# Fit linear regression\n",
    "lin_reg_mod.fit(X_train, y_train)# Make prediction on the testing data\n",
    "pred = lin_reg_mod.predict(X_test)"
   ]
  },
  {
   "cell_type": "code",
   "execution_count": 10,
   "metadata": {},
   "outputs": [
    {
     "name": "stdout",
     "output_type": "stream",
     "text": [
      "0.7412897604557265\n"
     ]
    }
   ],
   "source": [
    "# Calculate the R^2 or coefficent of determination between the actual & predicted\n",
    "test_set_r2 = r2_score(y_test, pred)\n",
    "\n",
    "# The closer towards 1, the better the fit\n",
    "print(test_set_r2)"
   ]
  },
  {
   "cell_type": "code",
   "execution_count": 11,
   "metadata": {},
   "outputs": [
    {
     "name": "stdout",
     "output_type": "stream",
     "text": [
      "2.997117345657622\n"
     ]
    }
   ],
   "source": [
    "# Calculate the Root Mean Square Error between the actual & predicted\n",
    "test_set_rmse = (np.sqrt(mean_squared_error(y_test, pred)))\n",
    "# Note that for rmse, the lower that value is, the better the fit\n",
    "print(test_set_rmse)"
   ]
  },
  {
   "cell_type": "code",
   "execution_count": 12,
   "metadata": {},
   "outputs": [
    {
     "name": "stdout",
     "output_type": "stream",
     "text": [
      "      overall  Predicted  Residuals\n",
      "301      74.0  69.855133   4.144867\n",
      "495      80.0  79.087082   0.912918\n",
      "3033     70.0  68.250325   1.749675\n",
      "2854     67.0  65.398135   1.601865\n",
      "836      67.0  66.352302   0.647698\n",
      "...       ...        ...        ...\n",
      "3075     65.0  64.853865   0.146135\n",
      "3947     66.0  65.790322   0.209678\n",
      "1246     82.0  84.840553  -2.840553\n",
      "3781     67.0  66.279184   0.720816\n",
      "2473     72.0  69.512443   2.487557\n",
      "\n",
      "[1071 rows x 3 columns]\n"
     ]
    },
    {
     "name": "stderr",
     "output_type": "stream",
     "text": [
      "<ipython-input-12-43cc2a5670b1>:2: SettingWithCopyWarning: \n",
      "A value is trying to be set on a copy of a slice from a DataFrame.\n",
      "Try using .loc[row_indexer,col_indexer] = value instead\n",
      "\n",
      "See the caveats in the documentation: https://pandas.pydata.org/pandas-docs/stable/user_guide/indexing.html#returning-a-view-versus-a-copy\n",
      "  df_results['Predicted'] = pred.ravel()\n",
      "<ipython-input-12-43cc2a5670b1>:3: SettingWithCopyWarning: \n",
      "A value is trying to be set on a copy of a slice from a DataFrame.\n",
      "Try using .loc[row_indexer,col_indexer] = value instead\n",
      "\n",
      "See the caveats in the documentation: https://pandas.pydata.org/pandas-docs/stable/user_guide/indexing.html#returning-a-view-versus-a-copy\n",
      "  df_results['Residuals'] = abs(df_results['overall']) - abs(df_results['Predicted'])\n"
     ]
    }
   ],
   "source": [
    "df_results = y_test\n",
    "df_results['Predicted'] = pred.ravel()\n",
    "df_results['Residuals'] = abs(df_results['overall']) - abs(df_results['Predicted'])\n",
    "print(df_results)"
   ]
  },
  {
   "cell_type": "code",
   "execution_count": 13,
   "metadata": {},
   "outputs": [
    {
     "data": {
      "image/png": "[encoded data removed]",
      "text/plain": [
       "<Figure size 864x432 with 1 Axes>"
      ]
     },
     "metadata": {
      "needs_background": "light"
     },
     "output_type": "display_data"
    }
   ],
   "source": [
    "# Plotting the residuals distribution\n",
    "plt.subplots(figsize=(12, 6))\n",
    "plt.title('Distribution of Residuals')\n",
    "sns.distplot(df_results['Residuals'])\n",
    "plt.show()"
   ]
  },
  {
   "cell_type": "code",
   "execution_count": 14,
   "metadata": {},
   "outputs": [
    {
     "data": {
      "image/png": "[encoded data removed]",
      "text/plain": [
       "<Figure size 432x288 with 2 Axes>"
      ]
     },
     "metadata": {
      "needs_background": "light"
     },
     "output_type": "display_data"
    }
   ],
   "source": [
    "# Put three used columns into a new data framed named df2\n",
    "df2 = df[['overall', 'potential', 'value_eur', 'international_reputation', 'passing']]# Put the correlations into corr2\n",
    "corr2 = df2.corr()# Create Correlation Matrix\n",
    "fig= plot_corr(corr2,xnames=corr2.columns)"
   ]
  },
  {
   "cell_type": "code",
   "execution_count": 15,
   "metadata": {},
   "outputs": [],
   "source": [
    "#Predicting player positions via variables (height, weight, preferred foot, etc)\n",
    "#Random Forest classifier\n",
    "fifa = allData\n",
    "#Just to fill out a new column for later\n",
    "fifa['position'] = fifa['age']"
   ]
  },
  {
   "cell_type": "code",
   "execution_count": 16,
   "metadata": {},
   "outputs": [],
   "source": [
    "#For each prefered position, mark the position column with the appropriate label\n",
    "cb = pd.DataFrame(fifa.loc[(fifa[\"player_positions\"].str.contains('CB', regex=False)==True)])\n",
    "cb['position'] = 0\n",
    "\n",
    "wb = pd.DataFrame(fifa.loc[(fifa[\"player_positions\"].str.contains('RB', regex=False)==True)|(fifa[\"player_positions\"].str.contains('LB', regex=False)==True)|(fifa[\"player_positions\"].str.contains('RWB', regex=False)==True)|(fifa[\"player_positions\"].str.contains('LWB', regex=False)==True)])\n",
    "wb['position'] = 1\n",
    "\n",
    "mid = pd.DataFrame(fifa.loc[(fifa[\"player_positions\"].str.contains('CDM', regex=False)==True)|(fifa[\"player_positions\"].str.contains('CM', regex=False)==True)|(fifa[\"player_positions\"].str.contains('CAM', regex=False)==True)])\n",
    "mid['position'] = 2\n",
    "\n",
    "wingers = pd.DataFrame(fifa.loc[(fifa[\"player_positions\"].str.contains('LM', regex=False)==True)|(fifa[\"player_positions\"].str.contains('RM', regex=False)==True)|(fifa[\"player_positions\"].str.contains('LW', regex=False)==True)|(fifa[\"player_positions\"].str.contains('RW', regex=False)==True)])\n",
    "wingers['position'] = 3\n",
    "\n",
    "st = pd.DataFrame(fifa.loc[(fifa[\"player_positions\"].str.contains('ST', regex=False)==True)|(fifa[\"player_positions\"].str.contains('CF', regex=False)==True)])\n",
    "st['position'] = 4"
   ]
  },
  {
   "cell_type": "code",
   "execution_count": 17,
   "metadata": {},
   "outputs": [],
   "source": [
    "#Pare down the data to what we just need. \n",
    "data = [cb,wb,st,mid, wingers]\n",
    "result = pd.concat(data)\n",
    "result = result.sort_values('overall', ascending=False)\n",
    "result = result.drop_duplicates('sofifa_id')\n",
    "fifa = result.loc[:,[\"position\", \"sofifa_id\",\"long_name\",\"age\",\"height_cm\" ,\"weight_kg\",\n",
    "                       \"overall\", \"potential\", \"value_eur\", \"international_reputation\", \"weak_foot\", \"skill_moves\", \"pace\",\"shooting\",\"passing\",\"dribbling\",\"defending\",\"physic\"]]"
   ]
  },
  {
   "cell_type": "code",
   "execution_count": 18,
   "metadata": {},
   "outputs": [],
   "source": [
    "#This use grid search to find optimal parameters\n",
    "data = fifa.iloc[:, 4:33]\n",
    "labels = fifa[\"position\"]"
   ]
  },
  {
   "cell_type": "code",
   "execution_count": 19,
   "metadata": {},
   "outputs": [
    {
     "name": "stdout",
     "output_type": "stream",
     "text": [
      "0.6821345707656613\n",
      "              precision    recall  f1-score   support\n",
      "\n",
      "          cb       0.77      0.91      0.84        67\n",
      "          wb       0.66      0.53      0.58        72\n",
      "         mid       0.63      0.73      0.67       131\n",
      "        wing       0.53      0.51      0.52        65\n",
      "          st       0.83      0.70      0.76        96\n",
      "\n",
      "    accuracy                           0.68       431\n",
      "   macro avg       0.68      0.67      0.67       431\n",
      "weighted avg       0.69      0.68      0.68       431\n",
      "\n"
     ]
    }
   ],
   "source": [
    "from sklearn.model_selection import train_test_split\n",
    "from sklearn.metrics import classification_report, accuracy_score, confusion_matrix\n",
    "from sklearn.ensemble import RandomForestClassifier\n",
    "\n",
    "features_train, features_test, labels_train, labels_test = train_test_split(data, labels, test_size=0.3, random_state=42)\n",
    "\n",
    "rnd_clf = RandomForestClassifier(n_estimators = 500,criterion = 'entropy', min_samples_split = 2,min_samples_leaf = 5, max_depth=20)\n",
    "rnd_clf.fit(features_train, labels_train)\n",
    "pred = rnd_clf.predict(features_test)\n",
    "print(accuracy_score(labels_test,pred))\n",
    "target_names = ['cb', 'wb', 'mid','wing','st']\n",
    "print(classification_report(labels_test,pred, target_names = target_names))"
   ]
  },
  {
   "cell_type": "code",
   "execution_count": 20,
   "metadata": {},
   "outputs": [],
   "source": [
    "from sklearn.preprocessing import MinMaxScaler\n",
    "scaler = MinMaxScaler(feature_range=(.5, 1))\n",
    "\n",
    "features = scaler.fit_transform(rnd_clf.feature_importances_.reshape(-1,1))\n",
    "i = 0\n",
    "color_list = []\n",
    "while i<len(features):\n",
    "    #pace colors\n",
    "    if i<2:\n",
    "        arr = (features[i],features[i]*0,features[i]*.4)\n",
    "        color_list.append(arr)\n",
    "    #shooting colors\n",
    "    elif i<8:\n",
    "        arr = (features[i],features[i],features[i]*0)\n",
    "        color_list.append(arr)\n",
    "    #passing colors\n",
    "    elif i<14:\n",
    "        arr = (features[i]*.1,features[i],features[i])\n",
    "        color_list.append(arr)\n",
    "    #dribbling colors\n",
    "    elif i<20:\n",
    "        arr = (features[i]*.5,features[i]*0,features[i])\n",
    "        color_list.append(arr)\n",
    "    #defending colors\n",
    "    elif i<25:\n",
    "        arr = (features[i],features[i]*.3,features[i]*.0)\n",
    "        color_list.append(arr)\n",
    "    #physical colors\n",
    "    elif i<29:\n",
    "        arr = (features[i]*0,features[i]*.8,features[i]*0)\n",
    "        color_list.append(arr)\n",
    "    i+=1\n",
    "color_list = np.array(color_list)\n",
    "color_list =color_list.reshape(len(rnd_clf.feature_importances_),3) "
   ]
  },
  {
   "cell_type": "code",
   "execution_count": 21,
   "metadata": {},
   "outputs": [
    {
     "data": {
      "image/png": "[encoded data removed]",
      "text/plain": [
       "<Figure size 1440x720 with 1 Axes>"
      ]
     },
     "metadata": {
      "needs_background": "light"
     },
     "output_type": "display_data"
    }
   ],
   "source": [
    "%matplotlib inline\n",
    "import matplotlib\n",
    "import matplotlib.pyplot as plt \n",
    "\n",
    "width = 0.5\n",
    "graph_labels = data.columns.values\n",
    "\n",
    "fig, ax = plt.subplots(figsize=(20, 10))\n",
    "\n",
    "ind = np.arange(len(graph_labels))\n",
    "test = ax.bar(ind, rnd_clf.feature_importances_, width, align='center', alpha=0.5, color = color_list)\n",
    "ax.set_xticks(ind)\n",
    "ax.set_xticklabels(graph_labels,rotation=90, fontsize=15)\n",
    "ax.set_ylabel('Importance',fontsize=20)\n",
    "ax.set_title('Importance of stats in position classification',fontsize=20)\n",
    "plt.show()"
   ]
  }
 ],
 "metadata": {
  "kernelspec": {
   "display_name": "Python 3",
   "language": "python",
   "name": "python3"
  },
  "language_info": {
   "codemirror_mode": {
    "name": "ipython",
    "version": 3
   },
   "file_extension": ".py",
   "mimetype": "text/x-python",
   "name": "python",
   "nbconvert_exporter": "python",
   "pygments_lexer": "ipython3",
   "version": "3.8.3"
  }
 },
 "nbformat": 4,
 "nbformat_minor": 4
}
