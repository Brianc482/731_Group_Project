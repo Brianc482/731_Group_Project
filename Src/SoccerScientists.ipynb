{
 "cells": [
  {
   "cell_type": "code",
   "execution_count": 1,
   "metadata": {},
   "outputs": [
    {
     "name": "stdout",
     "output_type": "stream",
     "text": [
      "           Date     HomeTeam      AwayTeam  FTHG  FTAG FTR  HTHG  HTAG HTR  \\\n",
      "0    08-08-2015  Bournemouth   Aston Villa     0     1   A     0     0   D   \n",
      "1    08-08-2015      Chelsea       Swansea     2     2   D     2     1   H   \n",
      "2    08-08-2015      Everton       Watford     2     2   D     0     1   A   \n",
      "3    08-08-2015    Leicester    Sunderland     4     2   H     3     0   H   \n",
      "4    08-08-2015   Man United     Tottenham     1     0   H     1     0   H   \n",
      "..          ...          ...           ...   ...   ...  ..   ...   ...  ..   \n",
      "375  12-05-2019    Liverpool        Wolves     2     0   H     1     0   H   \n",
      "376  12-05-2019   Man United       Cardiff     0     2   A     0     1   A   \n",
      "377  12-05-2019  Southampton  Huddersfield     1     1   D     1     0   H   \n",
      "378  12-05-2019    Tottenham       Everton     2     2   D     1     0   H   \n",
      "379  12-05-2019      Watford      West Ham     1     4   A     0     2   A   \n",
      "\n",
      "           Referee  ...  HST  AST  HF  AF  HC  AC  HY  AY  HR  AR  \n",
      "0    M Clattenburg  ...    2    3  13  13   6   3   3   4   0   0  \n",
      "1         M Oliver  ...    3   10  15  16   4   8   1   3   1   0  \n",
      "2          M Jones  ...    5    5   7  13   8   2   1   2   0   0  \n",
      "3          L Mason  ...    8    5  13  17   6   3   2   4   0   0  \n",
      "4           J Moss  ...    1    4  12  12   1   2   2   3   0   0  \n",
      "..             ...  ...  ...  ...  ..  ..  ..  ..  ..  ..  ..  ..  \n",
      "375     M Atkinson  ...    5    2   3  11   4   1   0   2   0   0  \n",
      "376         J Moss  ...   10    4   9   6  11   2   3   3   0   0  \n",
      "377      L Probert  ...    3    3   8   6   4   3   0   1   0   0  \n",
      "378     A Marriner  ...    3    9  10  13   7   4   0   2   0   0  \n",
      "379     C Kavanagh  ...    8    9  10  10   7   2   1   0   1   0  \n",
      "\n",
      "[1520 rows x 22 columns]\n"
     ]
    }
   ],
   "source": [
    "import pandas as pd\n",
    "\n",
    "#Reading in the datasets\n",
    "first = pd.read_csv(\"https://raw.githubusercontent.com/Brianc482/731_Group_Project/main/Data/2015-2016.csv\")\n",
    "second = pd.read_csv(\"https://raw.githubusercontent.com/Brianc482/731_Group_Project/main/Data/2016-2017.csv\")\n",
    "third = pd.read_csv(\"https://raw.githubusercontent.com/Brianc482/731_Group_Project/main/Data/2017-2018.csv\")\n",
    "fourth = pd.read_csv(\"https://raw.githubusercontent.com/Brianc482/731_Group_Project/main/Data/2018-2019.csv\")\n",
    "\n",
    "#Dropping a constant column that only appears in two of the\n",
    "#data sets\n",
    "third.drop([\"Div\"],axis=1,inplace=True)\n",
    "fourth.drop([\"Div\"],axis=1,inplace=True)\n",
    "\n",
    "#Creating a frame to hold the data sets and concatenating\n",
    "#into a single larger set\n",
    "frame = [first, second, third, fourth]\n",
    "df = pd.concat(frame)\n",
    "\n",
    "#Cleaning up the datetime format so that all appear the same\n",
    "df['Date'] = pd.to_datetime(df.Date)\n",
    "df['Date'] = df['Date'].dt.strftime('%m-%d-%Y')\n",
    "df.sort_values('Date')\n",
    "\n",
    "#Displaying the transformed data set and some information\n",
    "print(df)"
   ]
  },
  {
   "cell_type": "code",
   "execution_count": 2,
   "metadata": {},
   "outputs": [
    {
     "name": "stdout",
     "output_type": "stream",
     "text": [
      "\n",
      "Let's see if there are any N/A values to drop.\n",
      "The value should read 'True' if there are no N/A values:  True\n",
      "\n",
      "The list of keys are as follows:\n",
      "\n",
      "Index(['Date', 'HomeTeam', 'AwayTeam', 'FTHG', 'FTAG', 'FTR', 'HTHG', 'HTAG',\n",
      "       'HTR', 'Referee', 'HS', 'AS', 'HST', 'AST', 'HF', 'AF', 'HC', 'AC',\n",
      "       'HY', 'AY', 'HR', 'AR'],\n",
      "      dtype='object')\n",
      "\n",
      "A statistical description of our data:\n",
      "\n",
      "              FTHG         FTAG         HTHG         HTAG           HS  \\\n",
      "count  1520.000000  1520.000000  1520.000000  1520.000000  1520.000000   \n",
      "mean      1.547368     1.202632     0.666447     0.532237    14.012500   \n",
      "std       1.304418     1.182935     0.832158     0.749992     5.754854   \n",
      "min       0.000000     0.000000     0.000000     0.000000     0.000000   \n",
      "25%       1.000000     0.000000     0.000000     0.000000    10.000000   \n",
      "50%       1.000000     1.000000     0.000000     0.000000    13.000000   \n",
      "75%       2.000000     2.000000     1.000000     1.000000    17.000000   \n",
      "max       7.000000     7.000000     4.000000     4.000000    37.000000   \n",
      "\n",
      "                AS          HST          AST           HF           AF  \\\n",
      "count  1520.000000  1520.000000  1520.000000  1520.000000  1520.000000   \n",
      "mean     11.213816     4.712500     3.857895    10.373026    10.977632   \n",
      "std       4.760872     2.697055     2.286766     3.387182     3.498635   \n",
      "min       0.000000     0.000000     0.000000     0.000000     3.000000   \n",
      "25%       8.000000     3.000000     2.000000     8.000000     9.000000   \n",
      "50%      11.000000     4.000000     4.000000    10.000000    11.000000   \n",
      "75%      14.000000     6.000000     5.000000    12.250000    13.000000   \n",
      "max      30.000000    17.000000    15.000000    24.000000    26.000000   \n",
      "\n",
      "                HC           AC           HY           AY           HR  \\\n",
      "count  1520.000000  1520.000000  1520.000000  1520.000000  1520.000000   \n",
      "mean      5.769079     4.680263     1.549342     1.698026     0.053289   \n",
      "std       3.079156     2.682522     1.226839     1.264389     0.236113   \n",
      "min       0.000000     0.000000     0.000000     0.000000     0.000000   \n",
      "25%       4.000000     3.000000     1.000000     1.000000     0.000000   \n",
      "50%       5.000000     4.000000     1.000000     2.000000     0.000000   \n",
      "75%       8.000000     6.000000     2.000000     2.000000     0.000000   \n",
      "max      19.000000    15.000000     6.000000     9.000000     2.000000   \n",
      "\n",
      "                AR  \n",
      "count  1520.000000  \n",
      "mean      0.069079  \n",
      "std       0.258810  \n",
      "min       0.000000  \n",
      "25%       0.000000  \n",
      "50%       0.000000  \n",
      "75%       0.000000  \n",
      "max       2.000000  \n"
     ]
    }
   ],
   "source": [
    "print(\"\\nLet's see if there are any N/A values to drop.\")\n",
    "dropped_df = df.dropna()\n",
    "print(\"The value should read \\'True\\' if there are no N/A values: \", df.equals(dropped_df))\n",
    "\n",
    "\n",
    "print(\"\\nThe list of keys are as follows:\\n\")\n",
    "print(df.keys())\n",
    "\n",
    "print(\"\\nA statistical description of our data:\\n\")\n",
    "print(df.describe())"
   ]
  },
  {
   "cell_type": "code",
   "execution_count": null,
   "metadata": {},
   "outputs": [],
   "source": []
  }
 ],
 "metadata": {
  "kernelspec": {
   "display_name": "Python 3",
   "language": "python",
   "name": "python3"
  },
  "language_info": {
   "codemirror_mode": {
    "name": "ipython",
    "version": 3
   },
   "file_extension": ".py",
   "mimetype": "text/x-python",
   "name": "python",
   "nbconvert_exporter": "python",
   "pygments_lexer": "ipython3",
   "version": "3.8.3"
  }
 },
 "nbformat": 4,
 "nbformat_minor": 4
}
