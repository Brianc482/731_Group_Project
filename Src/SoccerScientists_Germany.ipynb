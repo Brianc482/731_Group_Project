{
  "nbformat": 4,
  "nbformat_minor": 0,
  "metadata": {
    "kernelspec": {
      "display_name": "Python 3",
      "language": "python",
      "name": "python3"
    },
    "language_info": {
      "codemirror_mode": {
        "name": "ipython",
        "version": 3
      },
      "file_extension": ".py",
      "mimetype": "text/x-python",
      "name": "python",
      "nbconvert_exporter": "python",
      "pygments_lexer": "ipython3",
      "version": "3.8.3"
    },
    "colab": {
      "name": "SoccerScientists_Germany.ipynb",
      "provenance": []
    },
    "accelerator": "TPU"
  },
  "cells": [
    {
      "cell_type": "code",
      "metadata": {
        "id": "qqVqzRPjjN7Y"
      },
      "source": [
        "# Importing libraries required for handling the data\n",
        "import pandas as pd\n",
        "import numpy as np\n",
        "import matplotlib.pyplot as plt\n",
        "import seaborn as sns\n",
        "\n",
        "# Importing metrics library\n",
        "from sklearn.metrics import r2_score\n",
        "from sklearn.metrics import mean_squared_error\n",
        "\n",
        "# Importing libraries for preprocessing\n",
        "from sklearn.preprocessing import LabelEncoder\n",
        "from sklearn.preprocessing import StandardScaler\n",
        "\n",
        "# Importing library for splitting the data\n",
        "from sklearn.model_selection import train_test_split\n",
        "\n",
        "from sklearn.model_selection import GridSearchCV, RandomizedSearchCV\n",
        "\n",
        "# Importing regression models from scikit-learn\n",
        "from sklearn.linear_model import LinearRegression\n",
        "from sklearn.neural_network import MLPRegressor\n",
        "from sklearn.ensemble import RandomForestRegressor\n",
        "from sklearn.metrics import mean_absolute_error, r2_score"
      ],
      "execution_count": 22,
      "outputs": []
    },
    {
      "cell_type": "code",
      "metadata": {
        "id": "c1R-7vzQjN7h",
        "outputId": "702b2f35-70ff-473a-964d-cf556594a67d",
        "colab": {
          "base_uri": "https://localhost:8080/",
          "height": 372
        }
      },
      "source": [
        "df = pd.read_csv(\"https://raw.githubusercontent.com/Brianc482/731_Group_Project/main/Data/Germany.csv\")\n",
        "df.head()"
      ],
      "execution_count": 2,
      "outputs": [
        {
          "output_type": "execute_result",
          "data": {
            "text/html": [
              "<div>\n",
              "<style scoped>\n",
              "    .dataframe tbody tr th:only-of-type {\n",
              "        vertical-align: middle;\n",
              "    }\n",
              "\n",
              "    .dataframe tbody tr th {\n",
              "        vertical-align: top;\n",
              "    }\n",
              "\n",
              "    .dataframe thead th {\n",
              "        text-align: right;\n",
              "    }\n",
              "</style>\n",
              "<table border=\"1\" class=\"dataframe\">\n",
              "  <thead>\n",
              "    <tr style=\"text-align: right;\">\n",
              "      <th></th>\n",
              "      <th>Name</th>\n",
              "      <th>Age</th>\n",
              "      <th>Nationality</th>\n",
              "      <th>Overall</th>\n",
              "      <th>Potential</th>\n",
              "      <th>Value</th>\n",
              "      <th>Wage</th>\n",
              "      <th>Special</th>\n",
              "      <th>Preferred Foot</th>\n",
              "      <th>International Reputation</th>\n",
              "      <th>Weak Foot</th>\n",
              "      <th>Skill Moves</th>\n",
              "      <th>Work Rate</th>\n",
              "      <th>Body Type</th>\n",
              "      <th>Real Face</th>\n",
              "      <th>Position</th>\n",
              "      <th>Jersey Number</th>\n",
              "      <th>Joined</th>\n",
              "      <th>Loaned From</th>\n",
              "      <th>Contract Valid Until</th>\n",
              "      <th>Height</th>\n",
              "      <th>Weight</th>\n",
              "      <th>LS</th>\n",
              "      <th>ST</th>\n",
              "      <th>RS</th>\n",
              "      <th>LW</th>\n",
              "      <th>LF</th>\n",
              "      <th>CF</th>\n",
              "      <th>RF</th>\n",
              "      <th>RW</th>\n",
              "      <th>LAM</th>\n",
              "      <th>CAM</th>\n",
              "      <th>RAM</th>\n",
              "      <th>LM</th>\n",
              "      <th>LCM</th>\n",
              "      <th>CM</th>\n",
              "      <th>RCM</th>\n",
              "      <th>RM</th>\n",
              "      <th>LWB</th>\n",
              "      <th>LDM</th>\n",
              "      <th>...</th>\n",
              "      <th>CB</th>\n",
              "      <th>RCB</th>\n",
              "      <th>RB</th>\n",
              "      <th>Crossing</th>\n",
              "      <th>Finishing</th>\n",
              "      <th>HeadingAccuracy</th>\n",
              "      <th>ShortPassing</th>\n",
              "      <th>Volleys</th>\n",
              "      <th>Dribbling</th>\n",
              "      <th>Curve</th>\n",
              "      <th>FKAccuracy</th>\n",
              "      <th>LongPassing</th>\n",
              "      <th>BallControl</th>\n",
              "      <th>Acceleration</th>\n",
              "      <th>SprintSpeed</th>\n",
              "      <th>Agility</th>\n",
              "      <th>Reactions</th>\n",
              "      <th>Balance</th>\n",
              "      <th>ShotPower</th>\n",
              "      <th>Jumping</th>\n",
              "      <th>Stamina</th>\n",
              "      <th>Strength</th>\n",
              "      <th>LongShots</th>\n",
              "      <th>Aggression</th>\n",
              "      <th>Interceptions</th>\n",
              "      <th>Positioning</th>\n",
              "      <th>Vision</th>\n",
              "      <th>Penalties</th>\n",
              "      <th>Composure</th>\n",
              "      <th>Marking</th>\n",
              "      <th>StandingTackle</th>\n",
              "      <th>SlidingTackle</th>\n",
              "      <th>GKDiving</th>\n",
              "      <th>GKHandling</th>\n",
              "      <th>GKKicking</th>\n",
              "      <th>GKPositioning</th>\n",
              "      <th>GKReflexes</th>\n",
              "      <th>Release Clause</th>\n",
              "      <th>PositionClass</th>\n",
              "      <th>Age_Ranges</th>\n",
              "    </tr>\n",
              "  </thead>\n",
              "  <tbody>\n",
              "    <tr>\n",
              "      <th>0</th>\n",
              "      <td>T. Kroos</td>\n",
              "      <td>28</td>\n",
              "      <td>Germany</td>\n",
              "      <td>90</td>\n",
              "      <td>90</td>\n",
              "      <td>76500000.0</td>\n",
              "      <td>355000.0</td>\n",
              "      <td>2190</td>\n",
              "      <td>Right</td>\n",
              "      <td>4.0</td>\n",
              "      <td>5.0</td>\n",
              "      <td>3.0</td>\n",
              "      <td>Medium/ Medium</td>\n",
              "      <td>Normal</td>\n",
              "      <td>Yes</td>\n",
              "      <td>LCM</td>\n",
              "      <td>8.0</td>\n",
              "      <td>Jul 17, 2014</td>\n",
              "      <td>0</td>\n",
              "      <td>2022</td>\n",
              "      <td>6'0</td>\n",
              "      <td>168lbs</td>\n",
              "      <td>78+3</td>\n",
              "      <td>78+3</td>\n",
              "      <td>78+3</td>\n",
              "      <td>81+3</td>\n",
              "      <td>82+3</td>\n",
              "      <td>82+3</td>\n",
              "      <td>82+3</td>\n",
              "      <td>81+3</td>\n",
              "      <td>84+3</td>\n",
              "      <td>84+3</td>\n",
              "      <td>84+3</td>\n",
              "      <td>82+3</td>\n",
              "      <td>86+3</td>\n",
              "      <td>86+3</td>\n",
              "      <td>86+3</td>\n",
              "      <td>82+3</td>\n",
              "      <td>79+3</td>\n",
              "      <td>82+3</td>\n",
              "      <td>...</td>\n",
              "      <td>72+3</td>\n",
              "      <td>72+3</td>\n",
              "      <td>77+3</td>\n",
              "      <td>88.0</td>\n",
              "      <td>76.0</td>\n",
              "      <td>54.0</td>\n",
              "      <td>92.0</td>\n",
              "      <td>82.0</td>\n",
              "      <td>81.0</td>\n",
              "      <td>86.0</td>\n",
              "      <td>84.0</td>\n",
              "      <td>93.0</td>\n",
              "      <td>90.0</td>\n",
              "      <td>64.0</td>\n",
              "      <td>62.0</td>\n",
              "      <td>70.0</td>\n",
              "      <td>89.0</td>\n",
              "      <td>71.0</td>\n",
              "      <td>87.0</td>\n",
              "      <td>30.0</td>\n",
              "      <td>75.0</td>\n",
              "      <td>73.0</td>\n",
              "      <td>92.0</td>\n",
              "      <td>60.0</td>\n",
              "      <td>82.0</td>\n",
              "      <td>79.0</td>\n",
              "      <td>86.0</td>\n",
              "      <td>73.0</td>\n",
              "      <td>85.0</td>\n",
              "      <td>72.0</td>\n",
              "      <td>79.0</td>\n",
              "      <td>69.0</td>\n",
              "      <td>10.0</td>\n",
              "      <td>11.0</td>\n",
              "      <td>13.0</td>\n",
              "      <td>7.0</td>\n",
              "      <td>10.0</td>\n",
              "      <td>€156.8M</td>\n",
              "      <td>Midfielder</td>\n",
              "      <td>26-30</td>\n",
              "    </tr>\n",
              "    <tr>\n",
              "      <th>1</th>\n",
              "      <td>M. ter Stegen</td>\n",
              "      <td>26</td>\n",
              "      <td>Germany</td>\n",
              "      <td>89</td>\n",
              "      <td>92</td>\n",
              "      <td>58000000.0</td>\n",
              "      <td>240000.0</td>\n",
              "      <td>1328</td>\n",
              "      <td>Right</td>\n",
              "      <td>3.0</td>\n",
              "      <td>4.0</td>\n",
              "      <td>1.0</td>\n",
              "      <td>Medium/ Medium</td>\n",
              "      <td>Normal</td>\n",
              "      <td>Yes</td>\n",
              "      <td>GK</td>\n",
              "      <td>22.0</td>\n",
              "      <td>Jul 1, 2014</td>\n",
              "      <td>0</td>\n",
              "      <td>2022</td>\n",
              "      <td>6'2</td>\n",
              "      <td>187lbs</td>\n",
              "      <td>0</td>\n",
              "      <td>0</td>\n",
              "      <td>0</td>\n",
              "      <td>0</td>\n",
              "      <td>0</td>\n",
              "      <td>0</td>\n",
              "      <td>0</td>\n",
              "      <td>0</td>\n",
              "      <td>0</td>\n",
              "      <td>0</td>\n",
              "      <td>0</td>\n",
              "      <td>0</td>\n",
              "      <td>0</td>\n",
              "      <td>0</td>\n",
              "      <td>0</td>\n",
              "      <td>0</td>\n",
              "      <td>0</td>\n",
              "      <td>0</td>\n",
              "      <td>...</td>\n",
              "      <td>0</td>\n",
              "      <td>0</td>\n",
              "      <td>0</td>\n",
              "      <td>15.0</td>\n",
              "      <td>14.0</td>\n",
              "      <td>11.0</td>\n",
              "      <td>36.0</td>\n",
              "      <td>14.0</td>\n",
              "      <td>17.0</td>\n",
              "      <td>18.0</td>\n",
              "      <td>12.0</td>\n",
              "      <td>42.0</td>\n",
              "      <td>18.0</td>\n",
              "      <td>38.0</td>\n",
              "      <td>50.0</td>\n",
              "      <td>37.0</td>\n",
              "      <td>85.0</td>\n",
              "      <td>43.0</td>\n",
              "      <td>22.0</td>\n",
              "      <td>79.0</td>\n",
              "      <td>35.0</td>\n",
              "      <td>79.0</td>\n",
              "      <td>10.0</td>\n",
              "      <td>43.0</td>\n",
              "      <td>22.0</td>\n",
              "      <td>11.0</td>\n",
              "      <td>69.0</td>\n",
              "      <td>25.0</td>\n",
              "      <td>69.0</td>\n",
              "      <td>25.0</td>\n",
              "      <td>13.0</td>\n",
              "      <td>10.0</td>\n",
              "      <td>87.0</td>\n",
              "      <td>85.0</td>\n",
              "      <td>88.0</td>\n",
              "      <td>85.0</td>\n",
              "      <td>90.0</td>\n",
              "      <td>€123.3M</td>\n",
              "      <td>Goalkeeper</td>\n",
              "      <td>26-30</td>\n",
              "    </tr>\n",
              "    <tr>\n",
              "      <th>2</th>\n",
              "      <td>M. Neuer</td>\n",
              "      <td>32</td>\n",
              "      <td>Germany</td>\n",
              "      <td>89</td>\n",
              "      <td>89</td>\n",
              "      <td>38000000.0</td>\n",
              "      <td>130000.0</td>\n",
              "      <td>1473</td>\n",
              "      <td>Right</td>\n",
              "      <td>5.0</td>\n",
              "      <td>4.0</td>\n",
              "      <td>1.0</td>\n",
              "      <td>Medium/ Medium</td>\n",
              "      <td>Normal</td>\n",
              "      <td>Yes</td>\n",
              "      <td>GK</td>\n",
              "      <td>1.0</td>\n",
              "      <td>Jul 1, 2011</td>\n",
              "      <td>0</td>\n",
              "      <td>2021</td>\n",
              "      <td>6'4</td>\n",
              "      <td>203lbs</td>\n",
              "      <td>0</td>\n",
              "      <td>0</td>\n",
              "      <td>0</td>\n",
              "      <td>0</td>\n",
              "      <td>0</td>\n",
              "      <td>0</td>\n",
              "      <td>0</td>\n",
              "      <td>0</td>\n",
              "      <td>0</td>\n",
              "      <td>0</td>\n",
              "      <td>0</td>\n",
              "      <td>0</td>\n",
              "      <td>0</td>\n",
              "      <td>0</td>\n",
              "      <td>0</td>\n",
              "      <td>0</td>\n",
              "      <td>0</td>\n",
              "      <td>0</td>\n",
              "      <td>...</td>\n",
              "      <td>0</td>\n",
              "      <td>0</td>\n",
              "      <td>0</td>\n",
              "      <td>15.0</td>\n",
              "      <td>13.0</td>\n",
              "      <td>25.0</td>\n",
              "      <td>55.0</td>\n",
              "      <td>11.0</td>\n",
              "      <td>30.0</td>\n",
              "      <td>14.0</td>\n",
              "      <td>11.0</td>\n",
              "      <td>59.0</td>\n",
              "      <td>48.0</td>\n",
              "      <td>54.0</td>\n",
              "      <td>60.0</td>\n",
              "      <td>51.0</td>\n",
              "      <td>84.0</td>\n",
              "      <td>35.0</td>\n",
              "      <td>25.0</td>\n",
              "      <td>77.0</td>\n",
              "      <td>43.0</td>\n",
              "      <td>80.0</td>\n",
              "      <td>16.0</td>\n",
              "      <td>29.0</td>\n",
              "      <td>30.0</td>\n",
              "      <td>12.0</td>\n",
              "      <td>70.0</td>\n",
              "      <td>47.0</td>\n",
              "      <td>70.0</td>\n",
              "      <td>17.0</td>\n",
              "      <td>10.0</td>\n",
              "      <td>11.0</td>\n",
              "      <td>90.0</td>\n",
              "      <td>86.0</td>\n",
              "      <td>91.0</td>\n",
              "      <td>87.0</td>\n",
              "      <td>87.0</td>\n",
              "      <td>€62.7M</td>\n",
              "      <td>Goalkeeper</td>\n",
              "      <td>31-35</td>\n",
              "    </tr>\n",
              "    <tr>\n",
              "      <th>3</th>\n",
              "      <td>M. Hummels</td>\n",
              "      <td>29</td>\n",
              "      <td>Germany</td>\n",
              "      <td>88</td>\n",
              "      <td>88</td>\n",
              "      <td>46000000.0</td>\n",
              "      <td>160000.0</td>\n",
              "      <td>2038</td>\n",
              "      <td>Right</td>\n",
              "      <td>4.0</td>\n",
              "      <td>3.0</td>\n",
              "      <td>3.0</td>\n",
              "      <td>High/ Medium</td>\n",
              "      <td>Normal</td>\n",
              "      <td>Yes</td>\n",
              "      <td>LCB</td>\n",
              "      <td>5.0</td>\n",
              "      <td>Jul 1, 2016</td>\n",
              "      <td>0</td>\n",
              "      <td>2021</td>\n",
              "      <td>6'3</td>\n",
              "      <td>203lbs</td>\n",
              "      <td>69+3</td>\n",
              "      <td>69+3</td>\n",
              "      <td>69+3</td>\n",
              "      <td>68+3</td>\n",
              "      <td>69+3</td>\n",
              "      <td>69+3</td>\n",
              "      <td>69+3</td>\n",
              "      <td>68+3</td>\n",
              "      <td>71+3</td>\n",
              "      <td>71+3</td>\n",
              "      <td>71+3</td>\n",
              "      <td>70+3</td>\n",
              "      <td>77+3</td>\n",
              "      <td>77+3</td>\n",
              "      <td>77+3</td>\n",
              "      <td>70+3</td>\n",
              "      <td>78+3</td>\n",
              "      <td>83+3</td>\n",
              "      <td>...</td>\n",
              "      <td>85+3</td>\n",
              "      <td>85+3</td>\n",
              "      <td>80+3</td>\n",
              "      <td>64.0</td>\n",
              "      <td>55.0</td>\n",
              "      <td>87.0</td>\n",
              "      <td>81.0</td>\n",
              "      <td>60.0</td>\n",
              "      <td>68.0</td>\n",
              "      <td>65.0</td>\n",
              "      <td>53.0</td>\n",
              "      <td>85.0</td>\n",
              "      <td>81.0</td>\n",
              "      <td>53.0</td>\n",
              "      <td>64.0</td>\n",
              "      <td>63.0</td>\n",
              "      <td>87.0</td>\n",
              "      <td>60.0</td>\n",
              "      <td>71.0</td>\n",
              "      <td>68.0</td>\n",
              "      <td>66.0</td>\n",
              "      <td>84.0</td>\n",
              "      <td>51.0</td>\n",
              "      <td>69.0</td>\n",
              "      <td>92.0</td>\n",
              "      <td>56.0</td>\n",
              "      <td>79.0</td>\n",
              "      <td>68.0</td>\n",
              "      <td>91.0</td>\n",
              "      <td>88.0</td>\n",
              "      <td>90.0</td>\n",
              "      <td>88.0</td>\n",
              "      <td>15.0</td>\n",
              "      <td>6.0</td>\n",
              "      <td>10.0</td>\n",
              "      <td>5.0</td>\n",
              "      <td>6.0</td>\n",
              "      <td>€75.9M</td>\n",
              "      <td>Defender</td>\n",
              "      <td>26-30</td>\n",
              "    </tr>\n",
              "    <tr>\n",
              "      <th>4</th>\n",
              "      <td>L. Sané</td>\n",
              "      <td>22</td>\n",
              "      <td>Germany</td>\n",
              "      <td>86</td>\n",
              "      <td>92</td>\n",
              "      <td>61000000.0</td>\n",
              "      <td>195000.0</td>\n",
              "      <td>2090</td>\n",
              "      <td>Left</td>\n",
              "      <td>2.0</td>\n",
              "      <td>3.0</td>\n",
              "      <td>4.0</td>\n",
              "      <td>High/ Medium</td>\n",
              "      <td>Lean</td>\n",
              "      <td>Yes</td>\n",
              "      <td>LW</td>\n",
              "      <td>19.0</td>\n",
              "      <td>Aug 2, 2016</td>\n",
              "      <td>0</td>\n",
              "      <td>2021</td>\n",
              "      <td>6'0</td>\n",
              "      <td>165lbs</td>\n",
              "      <td>82+2</td>\n",
              "      <td>82+2</td>\n",
              "      <td>82+2</td>\n",
              "      <td>84+2</td>\n",
              "      <td>84+2</td>\n",
              "      <td>84+2</td>\n",
              "      <td>84+2</td>\n",
              "      <td>84+2</td>\n",
              "      <td>82+2</td>\n",
              "      <td>82+2</td>\n",
              "      <td>82+2</td>\n",
              "      <td>83+2</td>\n",
              "      <td>74+2</td>\n",
              "      <td>74+2</td>\n",
              "      <td>74+2</td>\n",
              "      <td>83+2</td>\n",
              "      <td>65+2</td>\n",
              "      <td>59+2</td>\n",
              "      <td>...</td>\n",
              "      <td>52+2</td>\n",
              "      <td>52+2</td>\n",
              "      <td>61+2</td>\n",
              "      <td>83.0</td>\n",
              "      <td>81.0</td>\n",
              "      <td>72.0</td>\n",
              "      <td>79.0</td>\n",
              "      <td>85.0</td>\n",
              "      <td>88.0</td>\n",
              "      <td>82.0</td>\n",
              "      <td>68.0</td>\n",
              "      <td>64.0</td>\n",
              "      <td>85.0</td>\n",
              "      <td>93.0</td>\n",
              "      <td>96.0</td>\n",
              "      <td>88.0</td>\n",
              "      <td>81.0</td>\n",
              "      <td>81.0</td>\n",
              "      <td>86.0</td>\n",
              "      <td>64.0</td>\n",
              "      <td>79.0</td>\n",
              "      <td>70.0</td>\n",
              "      <td>78.0</td>\n",
              "      <td>61.0</td>\n",
              "      <td>34.0</td>\n",
              "      <td>84.0</td>\n",
              "      <td>82.0</td>\n",
              "      <td>71.0</td>\n",
              "      <td>78.0</td>\n",
              "      <td>36.0</td>\n",
              "      <td>32.0</td>\n",
              "      <td>35.0</td>\n",
              "      <td>8.0</td>\n",
              "      <td>12.0</td>\n",
              "      <td>9.0</td>\n",
              "      <td>9.0</td>\n",
              "      <td>14.0</td>\n",
              "      <td>€125.1M</td>\n",
              "      <td>Attacker</td>\n",
              "      <td>22-25</td>\n",
              "    </tr>\n",
              "  </tbody>\n",
              "</table>\n",
              "<p>5 rows × 85 columns</p>\n",
              "</div>"
            ],
            "text/plain": [
              "            Name  Age Nationality  ...  Release Clause  PositionClass  Age_Ranges\n",
              "0       T. Kroos   28     Germany  ...         €156.8M     Midfielder       26-30\n",
              "1  M. ter Stegen   26     Germany  ...         €123.3M     Goalkeeper       26-30\n",
              "2       M. Neuer   32     Germany  ...          €62.7M     Goalkeeper       31-35\n",
              "3     M. Hummels   29     Germany  ...          €75.9M       Defender       26-30\n",
              "4        L. Sané   22     Germany  ...         €125.1M       Attacker       22-25\n",
              "\n",
              "[5 rows x 85 columns]"
            ]
          },
          "metadata": {
            "tags": []
          },
          "execution_count": 2
        }
      ]
    },
    {
      "cell_type": "code",
      "metadata": {
        "id": "8_DpAzwmjN7q",
        "outputId": "9d0b0a9e-caf3-4143-d6dc-f968ebc093b9",
        "colab": {
          "base_uri": "https://localhost:8080/"
        }
      },
      "source": [
        "df['Position'].value_counts()"
      ],
      "execution_count": 3,
      "outputs": [
        {
          "output_type": "execute_result",
          "data": {
            "text/plain": [
              "GK     164\n",
              "CB     128\n",
              "ST     104\n",
              "LM      94\n",
              "RM      88\n",
              "RB      83\n",
              "LB      79\n",
              "CDM     79\n",
              "CAM     62\n",
              "CM      60\n",
              "RCB     48\n",
              "LCB     39\n",
              "RDM     24\n",
              "LDM     23\n",
              "RS      19\n",
              "LS      18\n",
              "RCM     18\n",
              "LCM     17\n",
              "LW      12\n",
              "RW      11\n",
              "RWB      9\n",
              "LWB      7\n",
              "CF       5\n",
              "0        3\n",
              "RF       1\n",
              "LAM      1\n",
              "RAM      1\n",
              "LF       1\n",
              "Name: Position, dtype: int64"
            ]
          },
          "metadata": {
            "tags": []
          },
          "execution_count": 3
        }
      ]
    },
    {
      "cell_type": "code",
      "metadata": {
        "id": "0sEcOWkDjN7u",
        "outputId": "4c412dcd-08b9-4699-c620-48b8528a7e40",
        "colab": {
          "base_uri": "https://localhost:8080/"
        }
      },
      "source": [
        "ageBins = [15, 21, 25, 30, 35, 40, 45]\n",
        "ranges = ['16-21','22-25','26-30','31-35','36-40','41-45']\n",
        "df['Age_Ranges'] = pd.cut(df['Age'], bins = ageBins, labels = ranges)\n",
        "df['Age_Ranges'].value_counts()"
      ],
      "execution_count": 4,
      "outputs": [
        {
          "output_type": "execute_result",
          "data": {
            "text/plain": [
              "22-25    377\n",
              "16-21    363\n",
              "26-30    351\n",
              "31-35    102\n",
              "36-40      5\n",
              "41-45      0\n",
              "Name: Age_Ranges, dtype: int64"
            ]
          },
          "metadata": {
            "tags": []
          },
          "execution_count": 4
        }
      ]
    },
    {
      "cell_type": "code",
      "metadata": {
        "id": "GevuZqSQjN7y",
        "outputId": "84e0f878-7cac-4f31-ed89-a15da598e75e",
        "colab": {
          "base_uri": "https://localhost:8080/",
          "height": 233
        }
      },
      "source": [
        "maxEarners= df[['Name','Value', 'Wage']].nlargest(11,'Wage', keep = 'first')\n",
        "maxEarners = maxEarners.set_index('Name')\n",
        "maxEarners.head()"
      ],
      "execution_count": 5,
      "outputs": [
        {
          "output_type": "execute_result",
          "data": {
            "text/html": [
              "<div>\n",
              "<style scoped>\n",
              "    .dataframe tbody tr th:only-of-type {\n",
              "        vertical-align: middle;\n",
              "    }\n",
              "\n",
              "    .dataframe tbody tr th {\n",
              "        vertical-align: top;\n",
              "    }\n",
              "\n",
              "    .dataframe thead th {\n",
              "        text-align: right;\n",
              "    }\n",
              "</style>\n",
              "<table border=\"1\" class=\"dataframe\">\n",
              "  <thead>\n",
              "    <tr style=\"text-align: right;\">\n",
              "      <th></th>\n",
              "      <th>Value</th>\n",
              "      <th>Wage</th>\n",
              "    </tr>\n",
              "    <tr>\n",
              "      <th>Name</th>\n",
              "      <th></th>\n",
              "      <th></th>\n",
              "    </tr>\n",
              "  </thead>\n",
              "  <tbody>\n",
              "    <tr>\n",
              "      <th>T. Kroos</th>\n",
              "      <td>76500000.0</td>\n",
              "      <td>355000.0</td>\n",
              "    </tr>\n",
              "    <tr>\n",
              "      <th>M. ter Stegen</th>\n",
              "      <td>58000000.0</td>\n",
              "      <td>240000.0</td>\n",
              "    </tr>\n",
              "    <tr>\n",
              "      <th>L. Sané</th>\n",
              "      <td>61000000.0</td>\n",
              "      <td>195000.0</td>\n",
              "    </tr>\n",
              "    <tr>\n",
              "      <th>M. Özil</th>\n",
              "      <td>43500000.0</td>\n",
              "      <td>190000.0</td>\n",
              "    </tr>\n",
              "    <tr>\n",
              "      <th>I. Gündoğan</th>\n",
              "      <td>32000000.0</td>\n",
              "      <td>175000.0</td>\n",
              "    </tr>\n",
              "  </tbody>\n",
              "</table>\n",
              "</div>"
            ],
            "text/plain": [
              "                    Value      Wage\n",
              "Name                               \n",
              "T. Kroos       76500000.0  355000.0\n",
              "M. ter Stegen  58000000.0  240000.0\n",
              "L. Sané        61000000.0  195000.0\n",
              "M. Özil        43500000.0  190000.0\n",
              "I. Gündoğan    32000000.0  175000.0"
            ]
          },
          "metadata": {
            "tags": []
          },
          "execution_count": 5
        }
      ]
    },
    {
      "cell_type": "code",
      "metadata": {
        "id": "1d8rtHjPjN72",
        "outputId": "98db08b3-1ff3-471c-d1bf-72650d6398ba",
        "colab": {
          "base_uri": "https://localhost:8080/",
          "height": 377
        }
      },
      "source": [
        "plt.figure(figsize=(10,5))\n",
        "sns.set()\n",
        "sns.barplot(x = maxEarners['Wage'], y = maxEarners.index,  palette = 'magma')\n",
        "plt.title('Top 10 highest paid players', fontsize = 20)\n",
        "plt.xlabel('Name', fontsize =12)\n",
        "plt.ylabel('Wage', fontsize =12)"
      ],
      "execution_count": 6,
      "outputs": [
        {
          "output_type": "execute_result",
          "data": {
            "text/plain": [
              "Text(0, 0.5, 'Wage')"
            ]
          },
          "metadata": {
            "tags": []
          },
          "execution_count": 6
        },
        {
          "output_type": "display_data",
          "data": {
            "image/png": "[encoded data removed]",
            "text/plain": [
              "<Figure size 720x360 with 1 Axes>"
            ]
          },
          "metadata": {
            "tags": [],
            "needs_background": "light"
          }
        }
      ]
    },
    {
      "cell_type": "code",
      "metadata": {
        "id": "t5_DWxSwjN76",
        "outputId": "314bb36c-ba12-42fa-ebc8-639b68dcc454",
        "colab": {
          "base_uri": "https://localhost:8080/",
          "height": 487
        }
      },
      "source": [
        "plt.figure(figsize=(20,8))\n",
        "labels = maxEarners.index\n",
        "ax = sns.regplot(x = 'Value', y = 'Wage' , data = df,\n",
        "            line_kws={\"color\":\"r\",\"alpha\":1,\"lw\":1.5})\n",
        "plt.title('Value vs Wage', fontsize = 20)\n",
        "\n",
        "for i, label in enumerate(labels):\n",
        "    ax.annotate(label, (maxEarners['Value'][i],maxEarners['Wage'][i]))"
      ],
      "execution_count": 7,
      "outputs": [
        {
          "output_type": "display_data",
          "data": {
            "image/png": "[encoded data removed]",
            "text/plain": [
              "<Figure size 1440x576 with 1 Axes>"
            ]
          },
          "metadata": {
            "tags": []
          }
        }
      ]
    },
    {
      "cell_type": "code",
      "metadata": {
        "id": "lm2wAWyGjN7-",
        "outputId": "1f2d3245-cdda-4cd7-ca09-9857c45dc827",
        "colab": {
          "base_uri": "https://localhost:8080/",
          "height": 503
        }
      },
      "source": [
        "plt.figure(figsize=(20,8))\n",
        "labels = maxEarners.index\n",
        "ax = sns.scatterplot(x = 'Overall', y = 'Wage' , data = df, size='Wage')\n",
        "plt.title('Overall vs Wage', fontsize = 20)\n",
        "\n",
        "for i, label in enumerate(labels):\n",
        "    ax.annotate(label, (df['Overall'][i],df['Wage'][i]))"
      ],
      "execution_count": 8,
      "outputs": [
        {
          "output_type": "display_data",
          "data": {
            "image/png": "[encoded data removed]",
            "text/plain": [
              "<Figure size 1440x576 with 1 Axes>"
            ]
          },
          "metadata": {
            "tags": []
          }
        }
      ]
    },
    {
      "cell_type": "code",
      "metadata": {
        "id": "TdoT3urGjN8D",
        "outputId": "81a2644e-cbc1-4fe7-d82e-23bf3f79e026",
        "colab": {
          "base_uri": "https://localhost:8080/",
          "height": 377
        }
      },
      "source": [
        "plt.figure(figsize=(12,5))\n",
        "labels = maxEarners.index\n",
        "ax = sns.scatterplot(x = 'Wage', y = 'PositionClass' , data = df,size='Wage')\n",
        "plt.title('Wage vs Position Class', fontsize = 20)"
      ],
      "execution_count": 9,
      "outputs": [
        {
          "output_type": "execute_result",
          "data": {
            "text/plain": [
              "Text(0.5, 1.0, 'Wage vs Position Class')"
            ]
          },
          "metadata": {
            "tags": []
          },
          "execution_count": 9
        },
        {
          "output_type": "display_data",
          "data": {
            "image/png": "[encoded data removed]",
            "text/plain": [
              "<Figure size 864x360 with 1 Axes>"
            ]
          },
          "metadata": {
            "tags": []
          }
        }
      ]
    },
    {
      "cell_type": "code",
      "metadata": {
        "id": "ypaNMShQjN8G",
        "outputId": "74779efb-78a9-4a2c-f8a4-d06def871ce7",
        "colab": {
          "base_uri": "https://localhost:8080/"
        }
      },
      "source": [
        "cols=['Crossing', 'Finishing', 'HeadingAccuracy', 'ShortPassing', 'Volleys', 'Skill Moves','Dribbling', 'Curve',\n",
        "      'FKAccuracy', 'LongPassing', 'BallControl', 'Agility', 'Acceleration', 'SprintSpeed', 'Agility', 'Reactions',\n",
        "      'Balance', 'ShotPower', 'Jumping', 'Stamina', 'Strength', 'LongShots', 'Reactions', 'Aggression',\n",
        "      'Interceptions', 'Positioning', 'Vision', 'Penalties', 'Composure', 'Marking', 'StandingTackle',\n",
        "      'SlidingTackle', 'GKDiving', 'GKHandling', 'GKKicking', 'GKPositioning', 'GKReflexes']\n",
        "i=0\n",
        "while i < len(cols):\n",
        "    print('Best {0} : {1}'.format(cols[i],df.loc[df[cols[i]].idxmax()][0]))\n",
        "    i += 1"
      ],
      "execution_count": 10,
      "outputs": [
        {
          "output_type": "stream",
          "text": [
            "Best Crossing : P. Max\n",
            "Best Finishing : T. Müller\n",
            "Best HeadingAccuracy : M. Hummels\n",
            "Best ShortPassing : T. Kroos\n",
            "Best Volleys : M. Reus\n",
            "Best Skill Moves : B. Manu\n",
            "Best Dribbling : L. Sané\n",
            "Best Curve : J. Geis\n",
            "Best FKAccuracy : T. Kroos\n",
            "Best LongPassing : T. Kroos\n",
            "Best BallControl : T. Kroos\n",
            "Best Agility : S. Bigalke\n",
            "Best Acceleration : L. Sané\n",
            "Best SprintSpeed : L. Sané\n",
            "Best Agility : S. Bigalke\n",
            "Best Reactions : T. Müller\n",
            "Best Balance : L. Ayçiçek\n",
            "Best ShotPower : L. Podolski\n",
            "Best Jumping : R. Gosens\n",
            "Best Stamina : M. Eggestein\n",
            "Best Strength : N. Süle\n",
            "Best LongShots : T. Kroos\n",
            "Best Reactions : T. Müller\n",
            "Best Aggression : D. Erdmann\n",
            "Best Interceptions : M. Hummels\n",
            "Best Positioning : T. Müller\n",
            "Best Vision : M. Özil\n",
            "Best Penalties : M. Kruse\n",
            "Best Composure : M. Hummels\n",
            "Best Marking : M. Hummels\n",
            "Best StandingTackle : M. Hummels\n",
            "Best SlidingTackle : M. Hummels\n",
            "Best GKDiving : M. Neuer\n",
            "Best GKHandling : M. Neuer\n",
            "Best GKKicking : M. Neuer\n",
            "Best GKPositioning : M. Neuer\n",
            "Best GKReflexes : M. ter Stegen\n"
          ],
          "name": "stdout"
        }
      ]
    },
    {
      "cell_type": "code",
      "metadata": {
        "id": "oO2iWtmSjN8J"
      },
      "source": [
        "target = \"Overall\"\n",
        "predictors = list(df.columns)\n",
        "for r in [target,\"Name\",\"Age\",\"Nationality\",\"Position\",\"Weak Foot\",\"Preferred Foot\", \"Work Rate\"]:\n",
        "  predictors.remove(r)\n",
        "#print(target,predictors)"
      ],
      "execution_count": 11,
      "outputs": []
    },
    {
      "cell_type": "code",
      "metadata": {
        "id": "jXmTbs6ajN8L"
      },
      "source": [
        "def numColumns(col):\n",
        "    if type(list(df[col])[0]) == float:\n",
        "        return col\n",
        "\n",
        "numberPreds = []\n",
        "\n",
        "for c in df.columns:\n",
        "    temp = numColumns(c)\n",
        "    if temp != None:\n",
        "        numberPreds.append(temp)\n",
        "\n",
        "#numberPreds"
      ],
      "execution_count": 12,
      "outputs": []
    },
    {
      "cell_type": "code",
      "metadata": {
        "id": "vR_whLDzjN8N",
        "outputId": "53792aeb-1078-424f-a1f7-2b18b2574534",
        "colab": {
          "base_uri": "https://localhost:8080/"
        }
      },
      "source": [
        "scaler = StandardScaler()\n",
        "numberPreds.append(target)\n",
        "# print(predictors,target)\n",
        "scaled_df = pd.DataFrame(data=scaler.fit_transform(df[numberPreds]),columns=numberPreds)\n",
        "\n",
        "numberPreds.remove(target)\n",
        "\n",
        "X = scaled_df[numberPreds]\n",
        "y = scaled_df[target]\n",
        "\n",
        "print(X.shape,y.shape)"
      ],
      "execution_count": 13,
      "outputs": [
        {
          "output_type": "stream",
          "text": [
            "(1198, 40) (1198,)\n"
          ],
          "name": "stdout"
        }
      ]
    },
    {
      "cell_type": "code",
      "metadata": {
        "id": "4eiGJFJ8jN8Q",
        "outputId": "9ea96fa2-6f84-499b-8be5-e13c8193c804",
        "colab": {
          "base_uri": "https://localhost:8080/"
        }
      },
      "source": [
        "X_train, X_test, y_train, y_test = train_test_split(X,y,test_size=0.33,random_state= 1)\n",
        "mlpReg = MLPRegressor(max_iter=150)\n",
        "mlpReg.fit(X_train.values,y_train.values)"
      ],
      "execution_count": 14,
      "outputs": [
        {
          "output_type": "execute_result",
          "data": {
            "text/plain": [
              "MLPRegressor(activation='relu', alpha=0.0001, batch_size='auto', beta_1=0.9,\n",
              "             beta_2=0.999, early_stopping=False, epsilon=1e-08,\n",
              "             hidden_layer_sizes=(100,), learning_rate='constant',\n",
              "             learning_rate_init=0.001, max_fun=15000, max_iter=150,\n",
              "             momentum=0.9, n_iter_no_change=10, nesterovs_momentum=True,\n",
              "             power_t=0.5, random_state=None, shuffle=True, solver='adam',\n",
              "             tol=0.0001, validation_fraction=0.1, verbose=False,\n",
              "             warm_start=False)"
            ]
          },
          "metadata": {
            "tags": []
          },
          "execution_count": 14
        }
      ]
    },
    {
      "cell_type": "code",
      "metadata": {
        "id": "dh5hXMnvjN8T"
      },
      "source": [
        "preds = mlpReg.predict(X_test)\n",
        "score = r2_score(y_test,preds)"
      ],
      "execution_count": 15,
      "outputs": []
    },
    {
      "cell_type": "code",
      "metadata": {
        "id": "Kq_58SO4jN8V",
        "outputId": "38a89b98-bc7e-4d77-90bb-89ac5c3afca7",
        "colab": {
          "base_uri": "https://localhost:8080/"
        }
      },
      "source": [
        "mae_mlp = mean_absolute_error(y_test,preds)\n",
        "#0.0 is best possible score from MAE\n",
        "print ('Mean-Absolute-Error: ', mae_mlp)\n",
        "#This is the weighted variance in our calculations 1.0 is maximum\n",
        "print('R2 score:', score)"
      ],
      "execution_count": 16,
      "outputs": [
        {
          "output_type": "stream",
          "text": [
            "Mean-Absolute-Error:  0.2167562913143649\n",
            "R2 score: 0.9211225374910827\n"
          ],
          "name": "stdout"
        }
      ]
    },
    {
      "cell_type": "code",
      "metadata": {
        "id": "8kMN7BxUjN8a",
        "outputId": "7a571ef7-d117-4ad5-96bd-02ba7cc4a104",
        "colab": {
          "base_uri": "https://localhost:8080/"
        }
      },
      "source": [
        "lr = LinearRegression()\n",
        "lr.fit(X_train,y_train)"
      ],
      "execution_count": 17,
      "outputs": [
        {
          "output_type": "execute_result",
          "data": {
            "text/plain": [
              "LinearRegression(copy_X=True, fit_intercept=True, n_jobs=None, normalize=False)"
            ]
          },
          "metadata": {
            "tags": []
          },
          "execution_count": 17
        }
      ]
    },
    {
      "cell_type": "code",
      "metadata": {
        "id": "OS9eEX7njN8c",
        "outputId": "a1791bc4-9130-48e4-e843-bc1b4ba8bfe3",
        "colab": {
          "base_uri": "https://localhost:8080/"
        }
      },
      "source": [
        "preds_lr = lr.predict(X_test)\n",
        "score_lr = r2_score(y_test,preds_lr)\n",
        "mae_lr = mean_absolute_error(y_test,preds_lr)\n",
        "#0.0 is best possible score from MAE\n",
        "print ('Mean-Absolute-Error: ', mae_lr)\n",
        "#This is the weighted variance in our calculations 1.0 is maximum\n",
        "print('R2 score:', score_lr)"
      ],
      "execution_count": 18,
      "outputs": [
        {
          "output_type": "stream",
          "text": [
            "Mean-Absolute-Error:  0.2871412067663844\n",
            "R2 score: 0.8532198232957389\n"
          ],
          "name": "stdout"
        }
      ]
    },
    {
      "cell_type": "code",
      "metadata": {
        "id": "OT2L0siUjN8f",
        "outputId": "b4ed0ec7-eebe-46d3-b0cf-17b1cc3c1f0a",
        "colab": {
          "base_uri": "https://localhost:8080/"
        }
      },
      "source": [
        "random = RandomForestRegressor(n_jobs=-1, n_estimators=100)\n",
        "random.fit(X_train, y_train)"
      ],
      "execution_count": 19,
      "outputs": [
        {
          "output_type": "execute_result",
          "data": {
            "text/plain": [
              "RandomForestRegressor(bootstrap=True, ccp_alpha=0.0, criterion='mse',\n",
              "                      max_depth=None, max_features='auto', max_leaf_nodes=None,\n",
              "                      max_samples=None, min_impurity_decrease=0.0,\n",
              "                      min_impurity_split=None, min_samples_leaf=1,\n",
              "                      min_samples_split=2, min_weight_fraction_leaf=0.0,\n",
              "                      n_estimators=100, n_jobs=-1, oob_score=False,\n",
              "                      random_state=None, verbose=0, warm_start=False)"
            ]
          },
          "metadata": {
            "tags": []
          },
          "execution_count": 19
        }
      ]
    },
    {
      "cell_type": "code",
      "metadata": {
        "id": "Jjj-Zjy7jN8k",
        "outputId": "03b4f155-0abc-402f-99e5-cc608d44336a",
        "colab": {
          "base_uri": "https://localhost:8080/"
        }
      },
      "source": [
        "preds_rf = random.predict(X_test)\n",
        "score_rf = r2_score(y_test,preds_rf)\n",
        "mae_rf = mean_absolute_error(y_test,preds_rf)\n",
        "#0.0 is best possible score from MAE\n",
        "print ('Mean-Absolute-Error: ', mae_rf)\n",
        "#This is the weighted variance in our calculations 1.0 is maximum\n",
        "print ('R2 score: ', score_rf)"
      ],
      "execution_count": 20,
      "outputs": [
        {
          "output_type": "stream",
          "text": [
            "Mean-Absolute-Error:  0.1300487832602344\n",
            "R2 score:  0.9687582098098801\n"
          ],
          "name": "stdout"
        }
      ]
    },
    {
      "cell_type": "code",
      "metadata": {
        "id": "8qYrzD3UjN8n"
      },
      "source": [
        "# There are a number of hyperparamaters that can be explored \n",
        "\n",
        "# Number of trees in random forest; default is 100\n",
        "n_estimators = [int(x) for x in np.linspace(start = 100, stop = 1000, num = 10)]\n",
        "\n",
        "# Criterion used to guide data splits\n",
        "# criterion = ['gini', 'entropy']\n",
        "\n",
        "# Maximum number of levels in tree. If None, then nodes are expanded until all leaves are pure or until all \n",
        "# leaves contain less than min_samples_split samples.\n",
        "# default = None\n",
        "max_depth = [int(x) for x in np.linspace(10, 110, num = 11)]\n",
        "max_depth.append(None)\n",
        "\n",
        "# Minimum number of samples required to split a node\n",
        "# default is 2\n",
        "min_samples_split = [2, 5, 10]\n",
        "\n",
        "# Minimum number of samples required at each leaf node\n",
        "# default = 1 \n",
        "min_samples_leaf = [1, 2, 4]\n",
        "\n",
        "# Number of features to consider at every split\n",
        "# default is auto (which is equivalent to sqrt)\n",
        "max_features = ['auto']\n",
        "\n",
        "# max_leaf_nodes  - Grow trees with max_leaf_nodes in best-first fashion.\n",
        "# If None then unlimited number of leaf nodes.\n",
        "# default=None \n",
        "max_leaf_nodes = [None]\n",
        "\n",
        "# min_impurity_decrease - A node will be split if this split induces a decrease of the impurity greater than or equal to this value.\n",
        "# default=0.0\n",
        "min_impurity_decrease = [0.001, 0.005, 0.01, 0.05]\n",
        "\n",
        "# Method of selecting samples for training each tree\n",
        "# default = True,  If False, the whole dataset is used to build each tree.\n",
        "bootstrap = [True]\n",
        "\n",
        "# Create the random grid\n",
        "param_grid_random = {'n_estimators': n_estimators,\n",
        "                      # 'criterion': criterion,\n",
        "                      'max_depth': max_depth,\n",
        "                      'min_samples_split': min_samples_split,\n",
        "                      'min_samples_leaf' : min_samples_leaf,\n",
        "                      'max_features': max_features,\n",
        "                      'max_leaf_nodes' : max_leaf_nodes,\n",
        "                      'min_impurity_decrease' : min_impurity_decrease,\n",
        "                      'bootstrap': bootstrap,\n",
        "                     }"
      ],
      "execution_count": 26,
      "outputs": []
    },
    {
      "cell_type": "code",
      "metadata": {
        "id": "QAPmz1N3kyfm",
        "outputId": "d5aeb572-fbb5-4472-86c4-c1c2b0f344a6",
        "colab": {
          "base_uri": "https://localhost:8080/"
        }
      },
      "source": [
        "# Use the param_grid_random for an initial \"rough\" search using Randomized search\n",
        "rf = RandomForestRegressor()\n",
        "# Random search of parameters, using 3 fold cross validation, \n",
        "# search across 100 different combinations, and use all available cores\n",
        "randomSearch = RandomizedSearchCV(estimator = rf, param_distributions = param_grid_random, n_iter = 300, cv = 3, verbose=2, random_state=42, n_jobs = -1)\n",
        "# Fit the random search model\n",
        "randomSearch.fit(X_train, y_train)\n",
        "bestRandomModel = randomSearch.best_estimator_\n",
        "print('Best parameters found: ', randomSearch.best_params_)"
      ],
      "execution_count": 27,
      "outputs": [
        {
          "output_type": "stream",
          "text": [
            "Fitting 3 folds for each of 300 candidates, totalling 900 fits\n"
          ],
          "name": "stdout"
        },
        {
          "output_type": "stream",
          "text": [
            "[Parallel(n_jobs=-1)]: Using backend LokyBackend with 2 concurrent workers.\n",
            "[Parallel(n_jobs=-1)]: Done  37 tasks      | elapsed:  1.3min\n",
            "[Parallel(n_jobs=-1)]: Done 158 tasks      | elapsed:  5.1min\n",
            "[Parallel(n_jobs=-1)]: Done 361 tasks      | elapsed: 11.3min\n",
            "[Parallel(n_jobs=-1)]: Done 644 tasks      | elapsed: 20.5min\n",
            "[Parallel(n_jobs=-1)]: Done 900 out of 900 | elapsed: 28.7min finished\n"
          ],
          "name": "stderr"
        },
        {
          "output_type": "stream",
          "text": [
            "Best parameters found:  {'n_estimators': 200, 'min_samples_split': 5, 'min_samples_leaf': 2, 'min_impurity_decrease': 0.001, 'max_leaf_nodes': None, 'max_features': 'auto', 'max_depth': 80, 'bootstrap': True}\n"
          ],
          "name": "stdout"
        }
      ]
    },
    {
      "cell_type": "code",
      "metadata": {
        "id": "WpC7GiZzlAPZ",
        "outputId": "e4267967-b850-41cd-a11a-82912db82331",
        "colab": {
          "base_uri": "https://localhost:8080/"
        }
      },
      "source": [
        "preds_rf_rv = bestRandomModel.predict(X_test)\n",
        "score_rf_rv = r2_score(y_test,preds_rf_rv)\n",
        "mae_rf_rv = mean_absolute_error(y_test,preds_rf_rv)\n",
        "#0.0 is best possible score from MAE\n",
        "print ('Mean-Absolute-Error: ', mae_rf_rv)\n",
        "#This is the weighted variance in our calculations 1.0 is maximum\n",
        "print ('R2 score: ', score_rf_rv)"
      ],
      "execution_count": 28,
      "outputs": [
        {
          "output_type": "stream",
          "text": [
            "Mean-Absolute-Error:  0.15214838674003026\n",
            "R2 score:  0.9594284853789088\n"
          ],
          "name": "stdout"
        }
      ]
    },
    {
      "cell_type": "code",
      "metadata": {
        "id": "AjAfSLv3lusC"
      },
      "source": [
        "# let's take the best parameters from the the random search, and use this as a base for gridsearch\n",
        "param_grid = {'n_estimators': [100, 150, 200, 250, 300],\n",
        "              'min_samples_split': [1, 3, 5, 7, 9],  \n",
        "              'min_samples_leaf': [1, 2, 3],\n",
        "              'min_impurity_decrease': [0.000, 0.0005, 0.001, 0.0015, 0.002],\n",
        "              'max_leaf_nodes': [None], \n",
        "              'max_features': ['auto'], \n",
        "              'max_depth': [70, 75, 80, 85, 90],\n",
        "              'bootstrap': [True]}"
      ],
      "execution_count": 29,
      "outputs": []
    },
    {
      "cell_type": "code",
      "metadata": {
        "id": "ZrI1LqEAlzwe",
        "outputId": "0b406025-3b90-45c9-c43b-dd98b541f875",
        "colab": {
          "base_uri": "https://localhost:8080/"
        }
      },
      "source": [
        "# refine our search using param_grid\n",
        "rf = RandomForestRegressor()\n",
        "# Random search of parameters, using 3 fold cross validation, \n",
        "# search across 100 different combinations, and use all available cores\n",
        "gridSearch = GridSearchCV(estimator = rf, param_grid=param_grid, cv = 3, verbose=2,  n_jobs = -1)\n",
        "# Fit the random search model\n",
        "gridSearch.fit(X_train, y_train)\n",
        "bestGridModel = gridSearch.best_estimator_\n",
        "print('Best parameters found: ', gridSearch.best_params_)"
      ],
      "execution_count": 31,
      "outputs": [
        {
          "output_type": "stream",
          "text": [
            "Fitting 3 folds for each of 1875 candidates, totalling 5625 fits\n"
          ],
          "name": "stdout"
        },
        {
          "output_type": "stream",
          "text": [
            "[Parallel(n_jobs=-1)]: Using backend LokyBackend with 2 concurrent workers.\n",
            "[Parallel(n_jobs=-1)]: Done  49 tasks      | elapsed:   38.0s\n",
            "[Parallel(n_jobs=-1)]: Done 170 tasks      | elapsed:  2.2min\n",
            "[Parallel(n_jobs=-1)]: Done 373 tasks      | elapsed:  5.1min\n",
            "[Parallel(n_jobs=-1)]: Done 656 tasks      | elapsed:  8.4min\n",
            "[Parallel(n_jobs=-1)]: Done 1021 tasks      | elapsed: 12.5min\n",
            "[Parallel(n_jobs=-1)]: Done 1466 tasks      | elapsed: 18.2min\n",
            "[Parallel(n_jobs=-1)]: Done 1993 tasks      | elapsed: 24.4min\n",
            "[Parallel(n_jobs=-1)]: Done 2600 tasks      | elapsed: 31.8min\n",
            "[Parallel(n_jobs=-1)]: Done 3289 tasks      | elapsed: 39.7min\n",
            "[Parallel(n_jobs=-1)]: Done 4058 tasks      | elapsed: 49.3min\n",
            "[Parallel(n_jobs=-1)]: Done 4909 tasks      | elapsed: 59.6min\n",
            "[Parallel(n_jobs=-1)]: Done 5625 out of 5625 | elapsed: 68.0min finished\n"
          ],
          "name": "stderr"
        },
        {
          "output_type": "stream",
          "text": [
            "Best parameters found:  {'bootstrap': True, 'max_depth': 90, 'max_features': 'auto', 'max_leaf_nodes': None, 'min_impurity_decrease': 0.0, 'min_samples_leaf': 1, 'min_samples_split': 3, 'n_estimators': 150}\n"
          ],
          "name": "stdout"
        }
      ]
    },
    {
      "cell_type": "code",
      "metadata": {
        "id": "uoZaSn_9mTb-",
        "outputId": "024ace82-ebcb-4edb-cd43-08a072f434a4",
        "colab": {
          "base_uri": "https://localhost:8080/"
        }
      },
      "source": [
        "preds_rf_g = bestGridModel.predict(X_test)\n",
        "score_rf_g = r2_score(y_test,preds_rf_g)\n",
        "mae_rf_g = mean_absolute_error(y_test,preds_rf_g)\n",
        "#0.0 is best possible score from MAE\n",
        "print ('Mean-Absolute-Error: ', mae_rf_g)\n",
        "#This is the weighted variance in our calculations 1.0 is maximum\n",
        "print ('R2 score: ', score_rf_g)"
      ],
      "execution_count": 32,
      "outputs": [
        {
          "output_type": "stream",
          "text": [
            "Mean-Absolute-Error:  0.13245333107572302\n",
            "R2 score:  0.9678704308812749\n"
          ],
          "name": "stdout"
        }
      ]
    },
    {
      "cell_type": "code",
      "metadata": {
        "id": "n8DZkX0_tyt8"
      },
      "source": [
        ""
      ],
      "execution_count": null,
      "outputs": []
    }
  ]
}
