{
  "nbformat": 4,
  "nbformat_minor": 0,
  "metadata": {
    "kernelspec": {
      "display_name": "Python 3",
      "language": "python",
      "name": "python3"
    },
    "language_info": {
      "codemirror_mode": {
        "name": "ipython",
        "version": 3
      },
      "file_extension": ".py",
      "mimetype": "text/x-python",
      "name": "python",
      "nbconvert_exporter": "python",
      "pygments_lexer": "ipython3",
      "version": "3.8.3"
    },
    "colab": {
      "name": "SoccerScientists_Germany.ipynb",
      "provenance": []
    },
    "accelerator": "TPU"
  },
  "cells": [
    {
      "cell_type": "code",
      "metadata": {
        "id": "qqVqzRPjjN7Y"
      },
      "source": [
        "# Importing libraries required for handling the data\n",
        "import pandas as pd\n",
        "import numpy as np\n",
        "import matplotlib.pyplot as plt\n",
        "import seaborn as sns\n",
        "\n",
        "# Importing libraries for preprocessing\n",
        "from sklearn.preprocessing import LabelEncoder\n",
        "from sklearn.preprocessing import MinMaxScaler\n",
        "\n",
        "# Importing library for splitting the data\n",
        "from sklearn.model_selection import train_test_split\n",
        "\n",
        "# Importing Principal Component Analysis from sklearn\n",
        "from sklearn.decomposition import PCA\n",
        "\n",
        "from sklearn.model_selection import GridSearchCV, RandomizedSearchCV\n",
        "\n",
        "# Importing regression models from scikit-learn\n",
        "from sklearn.neural_network import MLPClassifier\n",
        "from sklearn.ensemble import RandomForestClassifier\n",
        "from sklearn.metrics import accuracy_score, recall_score, precision_score, confusion_matrix"
      ],
      "execution_count": 1,
      "outputs": []
    },
    {
      "cell_type": "code",
      "metadata": {
        "id": "c1R-7vzQjN7h"
      },
      "source": [
        "df_g = pd.read_csv(\"https://raw.githubusercontent.com/Brianc482/731_Group_Project/main/Data/Germany_cleaned.csv\")\n",
        "df_a = pd.read_csv(\"https://raw.githubusercontent.com/Brianc482/731_Group_Project/main/Data/Argentina_cleaned.csv\")\n",
        "df_b = pd.read_csv(\"https://raw.githubusercontent.com/Brianc482/731_Group_Project/main/Data/Brazil_cleaned.csv\")\n",
        "df_s = pd.read_csv(\"https://raw.githubusercontent.com/Brianc482/731_Group_Project/main/Data/Spain_cleaned.csv\")\n",
        "df_i = pd.read_csv(\"https://raw.githubusercontent.com/Brianc482/731_Group_Project/main/Data/Italy_cleaned.csv\")"
      ],
      "execution_count": 2,
      "outputs": []
    },
    {
      "cell_type": "code",
      "metadata": {
        "id": "xju1dBKqNzot"
      },
      "source": [
        "def checkNaCols(df):\n",
        "  df_na = df.isna()\n",
        "  nan_columns = df_na.any()\n",
        "  return df.columns[nan_columns].tolist()\n",
        "\n",
        "df_a = df_a.replace(np.nan,0)\n",
        "df_b = df_b.replace(np.nan,0)\n",
        "# df_a.dropna(inplace=True,axis=0)"
      ],
      "execution_count": 3,
      "outputs": []
    },
    {
      "cell_type": "code",
      "metadata": {
        "id": "oO2iWtmSjN8J"
      },
      "source": [
        "target = \"encodedPosition\"\n",
        "\n",
        "# Importing the label encoder\n",
        "from sklearn.preprocessing import LabelEncoder\n",
        "\n",
        "encoderG = LabelEncoder()\n",
        "encoderA = LabelEncoder()\n",
        "encoderB = LabelEncoder()\n",
        "encoderS = LabelEncoder()\n",
        "encoderI = LabelEncoder()\n",
        "\n",
        "df_g[target]= encoderG.fit_transform(df_g[\"Position\"]) # Transforming the values into unique numbers from 1-n unique classes\n",
        "df_a[target]= encoderA.fit_transform(df_a[\"Position\"]) # Transforming the values into unique numbers from 1-n unique classes\n",
        "df_b[target]= encoderB.fit_transform(df_b[\"Position\"]) # Transforming the values into unique numbers from 1-n unique classes\n",
        "df_s[target]= encoderS.fit_transform(df_s[\"Position\"]) # Transforming the values into unique numbers from 1-n unique classes\n",
        "df_i[target]= encoderI.fit_transform(df_i[\"Position\"]) # Transforming the values into unique numbers from 1-n unique classes\n",
        "\n",
        "\n",
        "predictorsG = list(df_g.columns)\n",
        "predictorsA = list(df_a.columns)\n",
        "predictorsB = list(df_b.columns)\n",
        "predictorsS = list(df_s.columns)\n",
        "predictorsI = list(df_i.columns)\n",
        "\n",
        "textCols = [\"Name\",\"Nationality\",\"Position\",\"Weak Foot\",\"Preferred Foot\", \"Work Rate\",\"Release Clause\",\n",
        "            \"Body Type\",\"Real Face\",\"Joined\", \"Loaned From\",\"Contract Valid Until\"]\n",
        "textCols.append(target)\n",
        "\n",
        "for r in textCols:\n",
        "  predictorsG.remove(r)\n",
        "  predictorsA.remove(r)\n",
        "  predictorsB.remove(r)\n",
        "  predictorsS.remove(r)\n",
        "  predictorsI.remove(r)\n",
        "\n",
        "# print(\"Number of features:\",len(predictors))"
      ],
      "execution_count": 4,
      "outputs": []
    },
    {
      "cell_type": "code",
      "metadata": {
        "id": "vR_whLDzjN8N"
      },
      "source": [
        "scalerG = MinMaxScaler()\n",
        "scalerA = MinMaxScaler()\n",
        "scalerB = MinMaxScaler()\n",
        "scalerS = MinMaxScaler()\n",
        "scalerI = MinMaxScaler()\n",
        "\n",
        "scaled_df_g = pd.DataFrame(data=scalerG.fit_transform(df_g[predictorsG]),columns=predictorsG)\n",
        "scaled_df_a = pd.DataFrame(data=scalerA.fit_transform(df_a[predictorsA]),columns=predictorsA)\n",
        "scaled_df_b = pd.DataFrame(data=scalerB.fit_transform(df_b[predictorsB]),columns=predictorsB)\n",
        "scaled_df_s = pd.DataFrame(data=scalerS.fit_transform(df_s[predictorsS]),columns=predictorsS)\n",
        "scaled_df_i = pd.DataFrame(data=scalerI.fit_transform(df_i[predictorsI]),columns=predictorsI)\n",
        "\n",
        "pcaG = PCA(n_components = 0.99)\n",
        "X_g = pd.DataFrame(pcaG.fit_transform(scaled_df_g))\n",
        "y_g = df_g[target]\n",
        "\n",
        "pcaA = PCA(n_components = 0.99)\n",
        "X_a = pd.DataFrame(pcaA.fit_transform(scaled_df_a))\n",
        "y_a = df_a[target]\n",
        "\n",
        "pcaB = PCA(n_components = 0.99)\n",
        "X_b = pd.DataFrame(pcaB.fit_transform(scaled_df_b))\n",
        "y_b = df_b[target]\n",
        "\n",
        "pcaS = PCA(n_components = 0.99)\n",
        "X_s = pd.DataFrame(pcaS.fit_transform(scaled_df_s))\n",
        "y_s = df_s[target]\n",
        "\n",
        "pcaI = PCA(n_components = 0.99)\n",
        "X_i = pd.DataFrame(pcaI.fit_transform(scaled_df_i))\n",
        "y_i = df_i[target]\n",
        "\n",
        "# print(X.shape,y.shape)"
      ],
      "execution_count": 5,
      "outputs": []
    },
    {
      "cell_type": "markdown",
      "metadata": {
        "id": "3w_UUesgKyPQ"
      },
      "source": [
        "## Germany"
      ]
    },
    {
      "cell_type": "code",
      "metadata": {
        "id": "4eiGJFJ8jN8Q",
        "colab": {
          "base_uri": "https://localhost:8080/"
        },
        "outputId": "5ee964f6-ccb4-4e02-cf19-7d5e7178e5d5"
      },
      "source": [
        "X_train, X_test, y_train, y_test = train_test_split(X_g,y_g,test_size=0.2,random_state= 1)\n",
        "mlpReg = MLPClassifier(hidden_layer_sizes=(100,50,20), max_iter=1000)\n",
        "mlpReg.fit(X_train.values,y_train.values)\n",
        "preds = mlpReg.predict(X_test)\n",
        "score = accuracy_score(y_test,preds)\n",
        "print(\"MLP Classifier\")\n",
        "print('Accuracy score:', score)\n",
        "print(\"---------------------------------------------\")\n",
        "print(\"Random Forest Classifier\")\n",
        "random = RandomForestClassifier(n_jobs=-1, n_estimators=150)\n",
        "random.fit(X_train, y_train)\n",
        "preds_rf = random.predict(X_test)\n",
        "score_rf = accuracy_score(y_test,preds_rf)\n",
        "print ('Accuracy score: ', score_rf)\n",
        "print(\"---------------------------------------------\")"
      ],
      "execution_count": 6,
      "outputs": [
        {
          "output_type": "stream",
          "text": [
            "MLP Classifier\n",
            "Accuracy score: 0.42916666666666664\n",
            "---------------------------------------------\n",
            "Random Forest Classifier\n",
            "Accuracy score:  0.4666666666666667\n",
            "---------------------------------------------\n"
          ],
          "name": "stdout"
        }
      ]
    },
    {
      "cell_type": "markdown",
      "metadata": {
        "id": "uWrVAYYPLkYR"
      },
      "source": [
        "## Argentina"
      ]
    },
    {
      "cell_type": "code",
      "metadata": {
        "id": "dh5hXMnvjN8T",
        "colab": {
          "base_uri": "https://localhost:8080/"
        },
        "outputId": "48fa9acd-98ea-480e-f7a0-6b6326cfcca8"
      },
      "source": [
        "X_train, X_test, y_train, y_test = train_test_split(X_a,y_a,test_size=0.2,random_state= 1)\n",
        "mlpReg = MLPClassifier(hidden_layer_sizes=(100,50,20), max_iter=1000)\n",
        "mlpReg.fit(X_train.values,y_train.values)\n",
        "preds = mlpReg.predict(X_test)\n",
        "score = accuracy_score(y_test,preds)\n",
        "print(\"MLP Classifier\")\n",
        "print('Accuracy score:', score)\n",
        "print(\"---------------------------------------------\")\n",
        "print(\"Random Forest Classifier\")\n",
        "random = RandomForestClassifier(n_jobs=-1, n_estimators=150)\n",
        "random.fit(X_train, y_train)\n",
        "preds_rf = random.predict(X_test)\n",
        "score_rf = accuracy_score(y_test,preds_rf)\n",
        "print ('Accuracy score: ', score_rf)\n",
        "print(\"---------------------------------------------\")"
      ],
      "execution_count": 7,
      "outputs": [
        {
          "output_type": "stream",
          "text": [
            "MLP Classifier\n",
            "Accuracy score: 0.3882978723404255\n",
            "---------------------------------------------\n",
            "Random Forest Classifier\n",
            "Accuracy score:  0.40425531914893614\n",
            "---------------------------------------------\n"
          ],
          "name": "stdout"
        }
      ]
    },
    {
      "cell_type": "markdown",
      "metadata": {
        "id": "kMcVc8lGLoz4"
      },
      "source": [
        "## Brazil"
      ]
    },
    {
      "cell_type": "code",
      "metadata": {
        "id": "BDgVojKQLmYh",
        "outputId": "2addf5c1-a5fd-4609-c263-6d7bc7e90c90",
        "colab": {
          "base_uri": "https://localhost:8080/"
        }
      },
      "source": [
        "X_train, X_test, y_train, y_test = train_test_split(X_b,y_b,test_size=0.2,random_state= 1)\n",
        "mlpReg = MLPClassifier(hidden_layer_sizes=(100,50,20), max_iter=1000)\n",
        "mlpReg.fit(X_train.values,y_train.values)\n",
        "preds = mlpReg.predict(X_test)\n",
        "score = accuracy_score(y_test,preds)\n",
        "print(\"MLP Classifier\")\n",
        "print('Accuracy score:', score)\n",
        "print(\"---------------------------------------------\")\n",
        "print(\"Random Forest Classifier\")\n",
        "random = RandomForestClassifier(n_jobs=-1, n_estimators=150)\n",
        "random.fit(X_train, y_train)\n",
        "preds_rf = random.predict(X_test)\n",
        "score_rf = accuracy_score(y_test,preds_rf)\n",
        "print ('Accuracy score: ', score_rf)\n",
        "print(\"---------------------------------------------\")"
      ],
      "execution_count": 8,
      "outputs": [
        {
          "output_type": "stream",
          "text": [
            "MLP Classifier\n",
            "Accuracy score: 0.4397590361445783\n",
            "---------------------------------------------\n",
            "Random Forest Classifier\n",
            "Accuracy score:  0.4759036144578313\n",
            "---------------------------------------------\n"
          ],
          "name": "stdout"
        }
      ]
    },
    {
      "cell_type": "markdown",
      "metadata": {
        "id": "Q2TChhkmLt9z"
      },
      "source": [
        "## Spain"
      ]
    },
    {
      "cell_type": "code",
      "metadata": {
        "id": "pfYWERw-LrSc",
        "outputId": "0d3cc368-8520-4fd1-d4d4-be1ab01057e7",
        "colab": {
          "base_uri": "https://localhost:8080/"
        }
      },
      "source": [
        "X_train, X_test, y_train, y_test = train_test_split(X_s,y_s,test_size=0.2,random_state= 1)\n",
        "mlpReg = MLPClassifier(hidden_layer_sizes=(100,50,20), max_iter=1000)\n",
        "mlpReg.fit(X_train.values,y_train.values)\n",
        "preds = mlpReg.predict(X_test)\n",
        "score = accuracy_score(y_test,preds)\n",
        "print(\"MLP Classifier\")\n",
        "print('Accuracy score:', score)\n",
        "print(\"---------------------------------------------\")\n",
        "print(\"Random Forest Classifier\")\n",
        "random = RandomForestClassifier(n_jobs=-1, n_estimators=150)\n",
        "random.fit(X_train, y_train)\n",
        "preds_rf = random.predict(X_test)\n",
        "score_rf = accuracy_score(y_test,preds_rf)\n",
        "print ('Accuracy score: ', score_rf)\n",
        "print(\"---------------------------------------------\")"
      ],
      "execution_count": 9,
      "outputs": [
        {
          "output_type": "stream",
          "text": [
            "MLP Classifier\n",
            "Accuracy score: 0.4697674418604651\n",
            "---------------------------------------------\n",
            "Random Forest Classifier\n",
            "Accuracy score:  0.5023255813953489\n",
            "---------------------------------------------\n"
          ],
          "name": "stdout"
        }
      ]
    },
    {
      "cell_type": "markdown",
      "metadata": {
        "id": "VS7YDsmGLwmj"
      },
      "source": [
        "## Italy"
      ]
    },
    {
      "cell_type": "code",
      "metadata": {
        "id": "EWf7lRKnLvx-",
        "outputId": "69a0f344-0f4d-407d-8166-27b47a1d36a2",
        "colab": {
          "base_uri": "https://localhost:8080/"
        }
      },
      "source": [
        "X_train, X_test, y_train, y_test = train_test_split(X_i,y_i,test_size=0.2,random_state= 1)\n",
        "mlpReg = MLPClassifier(hidden_layer_sizes=(100,50,20), max_iter=1000)\n",
        "mlpReg.fit(X_train.values,y_train.values)\n",
        "preds = mlpReg.predict(X_test)\n",
        "score = accuracy_score(y_test,preds)\n",
        "print(\"MLP Classifier\")\n",
        "print('Accuracy score:', score)\n",
        "print(\"---------------------------------------------\")\n",
        "print(\"Random Forest Classifier\")\n",
        "random = RandomForestClassifier(n_jobs=-1, n_estimators=150)\n",
        "random.fit(X_train, y_train)\n",
        "preds_rf = random.predict(X_test)\n",
        "score_rf = accuracy_score(y_test,preds_rf)\n",
        "print ('Accuracy score: ', score_rf)\n",
        "print(\"---------------------------------------------\")"
      ],
      "execution_count": 10,
      "outputs": [
        {
          "output_type": "stream",
          "text": [
            "MLP Classifier\n",
            "Accuracy score: 0.4397163120567376\n",
            "---------------------------------------------\n",
            "Random Forest Classifier\n",
            "Accuracy score:  0.48936170212765956\n",
            "---------------------------------------------\n"
          ],
          "name": "stdout"
        }
      ]
    }
  ]
}